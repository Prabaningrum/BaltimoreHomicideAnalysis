{
  "cells": [
    {
      "cell_type": "markdown",
      "metadata": {
        "id": "FongSJTIk5A7"
      },
      "source": [
        "**Author: Prabaningrum Hendraswari Buditjahjono**"
      ]
    },
    {
      "cell_type": "markdown",
      "metadata": {
        "id": "-mfrx7_5QeLX"
      },
      "source": [
        "**Link Dashboard**\n",
        "\n",
        "https://public.tableau.com/app/profile/prabaningrum/viz/BaltimoreHomicide/Story1?publish=yes"
      ]
    },
    {
      "cell_type": "markdown",
      "metadata": {
        "id": "l4oNjUp6k7vL"
      },
      "source": [
        "**Introduction**\n",
        "\n",
        "The dataset shows the homicide data for the city of Baltimore from the years of 2007 all the way til present and updated almost monthly. Baltimore ranks 2nd on the highest murder rates in the United States, only second to St. Louis in Missouri. The data is obtained through the website, Baltimore Sun Homicide News through a Creative Commons License. The data shows details such as cause of death, police district in which the homicide occurred, and the name, age, gender and race of the victim, and more."
      ]
    },
    {
      "cell_type": "markdown",
      "metadata": {
        "id": "2BQdejwVpByq"
      },
      "source": [
        "**Problem Statement**\n",
        "\n",
        "The purpose of this analysis is to observe the possible patterns of homicide cases in Baltimore."
      ]
    },
    {
      "cell_type": "markdown",
      "metadata": {
        "id": "FlLaYpODk8V7"
      },
      "source": [
        "**Specified Problems**\n",
        "\n",
        "1. Which parts of Baltimore has the highest percentage of Homicide?\n",
        "2. What attributes does the victims typically have?\n",
        "\n",
        "  a. by gender\n",
        "\n",
        "  b. by race\n",
        "\n",
        "  c. by age\n",
        "3. On what timeframe does the homicide numbers increase significantly?\n",
        "4. Does the victims on all parts of Baltimore have similar attributes?\n",
        "5. Does race have a significant correlation with the homicide method?"
      ]
    },
    {
      "cell_type": "code",
      "execution_count": 1,
      "metadata": {
        "id": "HMZOWD8ClKod"
      },
      "outputs": [],
      "source": [
        "import pandas as pd\n",
        "import numpy as np\n",
        "import matplotlib.pyplot as plt\n",
        "import seaborn as sns\n",
        "from scipy import stats"
      ]
    },
    {
      "cell_type": "markdown",
      "metadata": {
        "id": "yoG2JyqKlNaK"
      },
      "source": [
        "## Data Loading"
      ]
    },
    {
      "cell_type": "markdown",
      "metadata": {
        "id": "y0uxuWV9Ogfe"
      },
      "source": [
        "**Data Reference**\n",
        "\n",
        "https://www.kaggle.com/datasets/harbirbatth/baltimore-homicide-statistics"
      ]
    },
    {
      "cell_type": "code",
      "execution_count": 2,
      "metadata": {
        "colab": {
          "base_uri": "https://localhost:8080/",
          "height": 641
        },
        "id": "xPtfnEWFlN5q",
        "outputId": "253458d5-e1b5-418a-d4e1-bedbe14e1b90"
      },
      "outputs": [
        {
          "data": {
            "text/html": [
              "<div>\n",
              "<style scoped>\n",
              "    .dataframe tbody tr th:only-of-type {\n",
              "        vertical-align: middle;\n",
              "    }\n",
              "\n",
              "    .dataframe tbody tr th {\n",
              "        vertical-align: top;\n",
              "    }\n",
              "\n",
              "    .dataframe thead th {\n",
              "        text-align: right;\n",
              "    }\n",
              "</style>\n",
              "<table border=\"1\" class=\"dataframe\">\n",
              "  <thead>\n",
              "    <tr style=\"text-align: right;\">\n",
              "      <th></th>\n",
              "      <th>id</th>\n",
              "      <th>first_name</th>\n",
              "      <th>last_name</th>\n",
              "      <th>age</th>\n",
              "      <th>gender</th>\n",
              "      <th>race</th>\n",
              "      <th>cause</th>\n",
              "      <th>death_loc</th>\n",
              "      <th>district</th>\n",
              "      <th>street_address</th>\n",
              "      <th>zip_code</th>\n",
              "      <th>latitude</th>\n",
              "      <th>longitude</th>\n",
              "      <th>date</th>\n",
              "      <th>time</th>\n",
              "      <th>notes</th>\n",
              "    </tr>\n",
              "  </thead>\n",
              "  <tbody>\n",
              "    <tr>\n",
              "      <th>0</th>\n",
              "      <td>3298</td>\n",
              "      <td>Gregory</td>\n",
              "      <td>Sinclair</td>\n",
              "      <td>31.0</td>\n",
              "      <td>male</td>\n",
              "      <td>black</td>\n",
              "      <td>shooting</td>\n",
              "      <td>unknown</td>\n",
              "      <td>SE</td>\n",
              "      <td>2300 Fleet St</td>\n",
              "      <td>21224</td>\n",
              "      <td>39.285140</td>\n",
              "      <td>-76.584100</td>\n",
              "      <td>2019-01-12</td>\n",
              "      <td>19:29:00</td>\n",
              "      <td>&lt;p&gt;Sinclair was shot after allegedly holding u...</td>\n",
              "    </tr>\n",
              "    <tr>\n",
              "      <th>1</th>\n",
              "      <td>3402</td>\n",
              "      <td>Name not yet released</td>\n",
              "      <td>NaN</td>\n",
              "      <td>NaN</td>\n",
              "      <td>female</td>\n",
              "      <td>unknown</td>\n",
              "      <td>unknown</td>\n",
              "      <td>unknown</td>\n",
              "      <td>NW</td>\n",
              "      <td>3901 Clarks Lane</td>\n",
              "      <td>21215</td>\n",
              "      <td>39.358600</td>\n",
              "      <td>-76.702790</td>\n",
              "      <td>2019-05-12</td>\n",
              "      <td>15:48:00</td>\n",
              "      <td>&lt;p&gt;On May 12, 2019 at approximately 3:48 p.m.,...</td>\n",
              "    </tr>\n",
              "    <tr>\n",
              "      <th>2</th>\n",
              "      <td>3417</td>\n",
              "      <td>Andre</td>\n",
              "      <td>Davis</td>\n",
              "      <td>25.0</td>\n",
              "      <td>male</td>\n",
              "      <td>unknown</td>\n",
              "      <td>unknown</td>\n",
              "      <td>unknown</td>\n",
              "      <td>ND</td>\n",
              "      <td>500 E 26th Street</td>\n",
              "      <td>21218</td>\n",
              "      <td>39.319180</td>\n",
              "      <td>-76.609010</td>\n",
              "      <td>2019-05-31</td>\n",
              "      <td>NaN</td>\n",
              "      <td>&lt;p&gt;On May 25, 2019 at approximately 9:26 a.m.,...</td>\n",
              "    </tr>\n",
              "    <tr>\n",
              "      <th>3</th>\n",
              "      <td>3459</td>\n",
              "      <td>Name not yet released</td>\n",
              "      <td>NaN</td>\n",
              "      <td>NaN</td>\n",
              "      <td>male</td>\n",
              "      <td>hispanic</td>\n",
              "      <td>shooting</td>\n",
              "      <td>scene</td>\n",
              "      <td>NE</td>\n",
              "      <td>4700 Loch Raven Blvd</td>\n",
              "      <td>21239</td>\n",
              "      <td>39.347950</td>\n",
              "      <td>-76.592300</td>\n",
              "      <td>2019-07-11</td>\n",
              "      <td>04:50:00</td>\n",
              "      <td>&lt;p&gt;Morgan State Police were called for a \"non-...</td>\n",
              "    </tr>\n",
              "    <tr>\n",
              "      <th>4</th>\n",
              "      <td>3487</td>\n",
              "      <td>Malachi</td>\n",
              "      <td>Lawson</td>\n",
              "      <td>4.0</td>\n",
              "      <td>male</td>\n",
              "      <td>black</td>\n",
              "      <td>unknown</td>\n",
              "      <td>scene</td>\n",
              "      <td>NW</td>\n",
              "      <td>5500 Haddon Ave</td>\n",
              "      <td>21207</td>\n",
              "      <td>39.336441</td>\n",
              "      <td>-76.702588</td>\n",
              "      <td>2019-08-03</td>\n",
              "      <td>04:45:00</td>\n",
              "      <td>NaN</td>\n",
              "    </tr>\n",
              "    <tr>\n",
              "      <th>...</th>\n",
              "      <td>...</td>\n",
              "      <td>...</td>\n",
              "      <td>...</td>\n",
              "      <td>...</td>\n",
              "      <td>...</td>\n",
              "      <td>...</td>\n",
              "      <td>...</td>\n",
              "      <td>...</td>\n",
              "      <td>...</td>\n",
              "      <td>...</td>\n",
              "      <td>...</td>\n",
              "      <td>...</td>\n",
              "      <td>...</td>\n",
              "      <td>...</td>\n",
              "      <td>...</td>\n",
              "      <td>...</td>\n",
              "    </tr>\n",
              "    <tr>\n",
              "      <th>4286</th>\n",
              "      <td>6</td>\n",
              "      <td>Edward</td>\n",
              "      <td>Canupp</td>\n",
              "      <td>61.0</td>\n",
              "      <td>male</td>\n",
              "      <td>white</td>\n",
              "      <td>bluntforce</td>\n",
              "      <td>scene</td>\n",
              "      <td>SD</td>\n",
              "      <td>500 Maude Ave.</td>\n",
              "      <td>21225</td>\n",
              "      <td>39.238881</td>\n",
              "      <td>-76.602565</td>\n",
              "      <td>2007-01-05</td>\n",
              "      <td>02:20:00</td>\n",
              "      <td>NaN</td>\n",
              "    </tr>\n",
              "    <tr>\n",
              "      <th>4287</th>\n",
              "      <td>5</td>\n",
              "      <td>Thomas</td>\n",
              "      <td>MacKenney</td>\n",
              "      <td>21.0</td>\n",
              "      <td>male</td>\n",
              "      <td>black</td>\n",
              "      <td>asphyxiation</td>\n",
              "      <td>scene</td>\n",
              "      <td>ND</td>\n",
              "      <td>5900 Northwood Drive</td>\n",
              "      <td>21212</td>\n",
              "      <td>39.364241</td>\n",
              "      <td>-76.599179</td>\n",
              "      <td>2007-01-03</td>\n",
              "      <td>14:00:00</td>\n",
              "      <td>NaN</td>\n",
              "    </tr>\n",
              "    <tr>\n",
              "      <th>4288</th>\n",
              "      <td>4</td>\n",
              "      <td>Nelsene</td>\n",
              "      <td>Burnette</td>\n",
              "      <td>44.0</td>\n",
              "      <td>female</td>\n",
              "      <td>black</td>\n",
              "      <td>bluntforce</td>\n",
              "      <td>scene</td>\n",
              "      <td>WD</td>\n",
              "      <td>2000 West North Ave</td>\n",
              "      <td>21217</td>\n",
              "      <td>39.309954</td>\n",
              "      <td>-76.650051</td>\n",
              "      <td>2007-01-02</td>\n",
              "      <td>18:30:00</td>\n",
              "      <td>NaN</td>\n",
              "    </tr>\n",
              "    <tr>\n",
              "      <th>4289</th>\n",
              "      <td>3</td>\n",
              "      <td>Eddie</td>\n",
              "      <td>Golf</td>\n",
              "      <td>26.0</td>\n",
              "      <td>male</td>\n",
              "      <td>black</td>\n",
              "      <td>shooting</td>\n",
              "      <td>scene</td>\n",
              "      <td>SW</td>\n",
              "      <td>4900 Challedon Road</td>\n",
              "      <td>21207</td>\n",
              "      <td>39.312646</td>\n",
              "      <td>-76.699146</td>\n",
              "      <td>2007-01-02</td>\n",
              "      <td>14:48:00</td>\n",
              "      <td>NaN</td>\n",
              "    </tr>\n",
              "    <tr>\n",
              "      <th>4290</th>\n",
              "      <td>2</td>\n",
              "      <td>Leon</td>\n",
              "      <td>Nelson</td>\n",
              "      <td>17.0</td>\n",
              "      <td>male</td>\n",
              "      <td>black</td>\n",
              "      <td>shooting</td>\n",
              "      <td>shock-trauma</td>\n",
              "      <td>SW</td>\n",
              "      <td>3400 Clifton Ave.</td>\n",
              "      <td>21216</td>\n",
              "      <td>39.311024</td>\n",
              "      <td>-76.674227</td>\n",
              "      <td>2007-01-01</td>\n",
              "      <td>18:45:00</td>\n",
              "      <td>NaN</td>\n",
              "    </tr>\n",
              "  </tbody>\n",
              "</table>\n",
              "<p>4291 rows × 16 columns</p>\n",
              "</div>"
            ],
            "text/plain": [
              "        id             first_name  last_name   age  gender      race  \\\n",
              "0     3298                Gregory   Sinclair  31.0    male     black   \n",
              "1     3402  Name not yet released        NaN   NaN  female   unknown   \n",
              "2     3417                  Andre      Davis  25.0    male   unknown   \n",
              "3     3459  Name not yet released        NaN   NaN    male  hispanic   \n",
              "4     3487                Malachi     Lawson   4.0    male     black   \n",
              "...    ...                    ...        ...   ...     ...       ...   \n",
              "4286     6                 Edward     Canupp  61.0    male     white   \n",
              "4287     5                 Thomas  MacKenney  21.0    male     black   \n",
              "4288     4                Nelsene   Burnette  44.0  female     black   \n",
              "4289     3                  Eddie       Golf  26.0    male     black   \n",
              "4290     2                   Leon     Nelson  17.0    male     black   \n",
              "\n",
              "             cause     death_loc district        street_address  zip_code  \\\n",
              "0         shooting       unknown       SE         2300 Fleet St     21224   \n",
              "1          unknown       unknown       NW      3901 Clarks Lane     21215   \n",
              "2          unknown       unknown       ND     500 E 26th Street     21218   \n",
              "3         shooting         scene       NE  4700 Loch Raven Blvd     21239   \n",
              "4          unknown         scene       NW       5500 Haddon Ave     21207   \n",
              "...            ...           ...      ...                   ...       ...   \n",
              "4286    bluntforce         scene       SD        500 Maude Ave.     21225   \n",
              "4287  asphyxiation         scene       ND  5900 Northwood Drive     21212   \n",
              "4288    bluntforce         scene       WD   2000 West North Ave     21217   \n",
              "4289      shooting         scene       SW  4900 Challedon Road      21207   \n",
              "4290      shooting  shock-trauma       SW     3400 Clifton Ave.     21216   \n",
              "\n",
              "       latitude  longitude        date      time  \\\n",
              "0     39.285140 -76.584100  2019-01-12  19:29:00   \n",
              "1     39.358600 -76.702790  2019-05-12  15:48:00   \n",
              "2     39.319180 -76.609010  2019-05-31       NaN   \n",
              "3     39.347950 -76.592300  2019-07-11  04:50:00   \n",
              "4     39.336441 -76.702588  2019-08-03  04:45:00   \n",
              "...         ...        ...         ...       ...   \n",
              "4286  39.238881 -76.602565  2007-01-05  02:20:00   \n",
              "4287  39.364241 -76.599179  2007-01-03  14:00:00   \n",
              "4288  39.309954 -76.650051  2007-01-02  18:30:00   \n",
              "4289  39.312646 -76.699146  2007-01-02  14:48:00   \n",
              "4290  39.311024 -76.674227  2007-01-01  18:45:00   \n",
              "\n",
              "                                                  notes  \n",
              "0     <p>Sinclair was shot after allegedly holding u...  \n",
              "1     <p>On May 12, 2019 at approximately 3:48 p.m.,...  \n",
              "2     <p>On May 25, 2019 at approximately 9:26 a.m.,...  \n",
              "3     <p>Morgan State Police were called for a \"non-...  \n",
              "4                                                   NaN  \n",
              "...                                                 ...  \n",
              "4286                                                NaN  \n",
              "4287                                                NaN  \n",
              "4288                                                NaN  \n",
              "4289                                                NaN  \n",
              "4290                                                NaN  \n",
              "\n",
              "[4291 rows x 16 columns]"
            ]
          },
          "execution_count": 2,
          "metadata": {},
          "output_type": "execute_result"
        }
      ],
      "source": [
        "df= pd.read_csv ('BaltimoreHomicide.csv')\n",
        "df"
      ]
    },
    {
      "cell_type": "code",
      "execution_count": 3,
      "metadata": {
        "colab": {
          "base_uri": "https://localhost:8080/"
        },
        "id": "Nnb8FTatlSgz",
        "outputId": "4e3cf9c0-1914-431a-ff99-23ff6572370a"
      },
      "outputs": [
        {
          "name": "stdout",
          "output_type": "stream",
          "text": [
            "<class 'pandas.core.frame.DataFrame'>\n",
            "RangeIndex: 4291 entries, 0 to 4290\n",
            "Data columns (total 16 columns):\n",
            " #   Column          Non-Null Count  Dtype  \n",
            "---  ------          --------------  -----  \n",
            " 0   id              4291 non-null   int64  \n",
            " 1   first_name      4241 non-null   object \n",
            " 2   last_name       4236 non-null   object \n",
            " 3   age             4248 non-null   float64\n",
            " 4   gender          4291 non-null   object \n",
            " 5   race            4291 non-null   object \n",
            " 6   cause           4291 non-null   object \n",
            " 7   death_loc       4291 non-null   object \n",
            " 8   district        4291 non-null   object \n",
            " 9   street_address  4291 non-null   object \n",
            " 10  zip_code        4291 non-null   int64  \n",
            " 11  latitude        4291 non-null   float64\n",
            " 12  longitude       4291 non-null   float64\n",
            " 13  date            4291 non-null   object \n",
            " 14  time            3797 non-null   object \n",
            " 15  notes           1178 non-null   object \n",
            "dtypes: float64(3), int64(2), object(11)\n",
            "memory usage: 536.5+ KB\n"
          ]
        }
      ],
      "source": [
        "#Looking at the data types\n",
        "df.info()"
      ]
    },
    {
      "cell_type": "code",
      "execution_count": 4,
      "metadata": {
        "id": "Ty171eYzlZp7"
      },
      "outputs": [],
      "source": [
        "#Changing the data type of some columns\n",
        "df['date']= pd.to_datetime(df['date'])\n",
        "df['time']= pd.to_datetime(df['time'])"
      ]
    },
    {
      "cell_type": "code",
      "execution_count": 5,
      "metadata": {
        "colab": {
          "base_uri": "https://localhost:8080/",
          "height": 337
        },
        "id": "ffHDs8ZblfBS",
        "outputId": "9239d86e-6c54-4089-b125-671df8793430"
      },
      "outputs": [
        {
          "data": {
            "text/html": [
              "<div>\n",
              "<style scoped>\n",
              "    .dataframe tbody tr th:only-of-type {\n",
              "        vertical-align: middle;\n",
              "    }\n",
              "\n",
              "    .dataframe tbody tr th {\n",
              "        vertical-align: top;\n",
              "    }\n",
              "\n",
              "    .dataframe thead th {\n",
              "        text-align: right;\n",
              "    }\n",
              "</style>\n",
              "<table border=\"1\" class=\"dataframe\">\n",
              "  <thead>\n",
              "    <tr style=\"text-align: right;\">\n",
              "      <th></th>\n",
              "      <th>id</th>\n",
              "      <th>first_name</th>\n",
              "      <th>last_name</th>\n",
              "      <th>age</th>\n",
              "      <th>gender</th>\n",
              "      <th>race</th>\n",
              "      <th>cause</th>\n",
              "      <th>death_loc</th>\n",
              "      <th>district</th>\n",
              "      <th>street_address</th>\n",
              "      <th>zip_code</th>\n",
              "      <th>latitude</th>\n",
              "      <th>longitude</th>\n",
              "      <th>date</th>\n",
              "      <th>time</th>\n",
              "      <th>notes</th>\n",
              "    </tr>\n",
              "  </thead>\n",
              "  <tbody>\n",
              "    <tr>\n",
              "      <th>0</th>\n",
              "      <td>3298</td>\n",
              "      <td>Gregory</td>\n",
              "      <td>Sinclair</td>\n",
              "      <td>31.0</td>\n",
              "      <td>male</td>\n",
              "      <td>black</td>\n",
              "      <td>shooting</td>\n",
              "      <td>unknown</td>\n",
              "      <td>SE</td>\n",
              "      <td>2300 Fleet St</td>\n",
              "      <td>21224</td>\n",
              "      <td>39.285140</td>\n",
              "      <td>-76.584100</td>\n",
              "      <td>2019-01-12</td>\n",
              "      <td>2022-11-01 19:29:00</td>\n",
              "      <td>&lt;p&gt;Sinclair was shot after allegedly holding u...</td>\n",
              "    </tr>\n",
              "    <tr>\n",
              "      <th>1</th>\n",
              "      <td>3402</td>\n",
              "      <td>Name not yet released</td>\n",
              "      <td>NaN</td>\n",
              "      <td>NaN</td>\n",
              "      <td>female</td>\n",
              "      <td>unknown</td>\n",
              "      <td>unknown</td>\n",
              "      <td>unknown</td>\n",
              "      <td>NW</td>\n",
              "      <td>3901 Clarks Lane</td>\n",
              "      <td>21215</td>\n",
              "      <td>39.358600</td>\n",
              "      <td>-76.702790</td>\n",
              "      <td>2019-05-12</td>\n",
              "      <td>2022-11-01 15:48:00</td>\n",
              "      <td>&lt;p&gt;On May 12, 2019 at approximately 3:48 p.m.,...</td>\n",
              "    </tr>\n",
              "    <tr>\n",
              "      <th>2</th>\n",
              "      <td>3417</td>\n",
              "      <td>Andre</td>\n",
              "      <td>Davis</td>\n",
              "      <td>25.0</td>\n",
              "      <td>male</td>\n",
              "      <td>unknown</td>\n",
              "      <td>unknown</td>\n",
              "      <td>unknown</td>\n",
              "      <td>ND</td>\n",
              "      <td>500 E 26th Street</td>\n",
              "      <td>21218</td>\n",
              "      <td>39.319180</td>\n",
              "      <td>-76.609010</td>\n",
              "      <td>2019-05-31</td>\n",
              "      <td>NaT</td>\n",
              "      <td>&lt;p&gt;On May 25, 2019 at approximately 9:26 a.m.,...</td>\n",
              "    </tr>\n",
              "    <tr>\n",
              "      <th>3</th>\n",
              "      <td>3459</td>\n",
              "      <td>Name not yet released</td>\n",
              "      <td>NaN</td>\n",
              "      <td>NaN</td>\n",
              "      <td>male</td>\n",
              "      <td>hispanic</td>\n",
              "      <td>shooting</td>\n",
              "      <td>scene</td>\n",
              "      <td>NE</td>\n",
              "      <td>4700 Loch Raven Blvd</td>\n",
              "      <td>21239</td>\n",
              "      <td>39.347950</td>\n",
              "      <td>-76.592300</td>\n",
              "      <td>2019-07-11</td>\n",
              "      <td>2022-11-01 04:50:00</td>\n",
              "      <td>&lt;p&gt;Morgan State Police were called for a \"non-...</td>\n",
              "    </tr>\n",
              "    <tr>\n",
              "      <th>4</th>\n",
              "      <td>3487</td>\n",
              "      <td>Malachi</td>\n",
              "      <td>Lawson</td>\n",
              "      <td>4.0</td>\n",
              "      <td>male</td>\n",
              "      <td>black</td>\n",
              "      <td>unknown</td>\n",
              "      <td>scene</td>\n",
              "      <td>NW</td>\n",
              "      <td>5500 Haddon Ave</td>\n",
              "      <td>21207</td>\n",
              "      <td>39.336441</td>\n",
              "      <td>-76.702588</td>\n",
              "      <td>2019-08-03</td>\n",
              "      <td>2022-11-01 04:45:00</td>\n",
              "      <td>NaN</td>\n",
              "    </tr>\n",
              "  </tbody>\n",
              "</table>\n",
              "</div>"
            ],
            "text/plain": [
              "     id             first_name last_name   age  gender      race     cause  \\\n",
              "0  3298                Gregory  Sinclair  31.0    male     black  shooting   \n",
              "1  3402  Name not yet released       NaN   NaN  female   unknown   unknown   \n",
              "2  3417                  Andre     Davis  25.0    male   unknown   unknown   \n",
              "3  3459  Name not yet released       NaN   NaN    male  hispanic  shooting   \n",
              "4  3487                Malachi    Lawson   4.0    male     black   unknown   \n",
              "\n",
              "  death_loc district        street_address  zip_code   latitude  longitude  \\\n",
              "0   unknown       SE         2300 Fleet St     21224  39.285140 -76.584100   \n",
              "1   unknown       NW      3901 Clarks Lane     21215  39.358600 -76.702790   \n",
              "2   unknown       ND     500 E 26th Street     21218  39.319180 -76.609010   \n",
              "3     scene       NE  4700 Loch Raven Blvd     21239  39.347950 -76.592300   \n",
              "4     scene       NW       5500 Haddon Ave     21207  39.336441 -76.702588   \n",
              "\n",
              "        date                time  \\\n",
              "0 2019-01-12 2022-11-01 19:29:00   \n",
              "1 2019-05-12 2022-11-01 15:48:00   \n",
              "2 2019-05-31                 NaT   \n",
              "3 2019-07-11 2022-11-01 04:50:00   \n",
              "4 2019-08-03 2022-11-01 04:45:00   \n",
              "\n",
              "                                               notes  \n",
              "0  <p>Sinclair was shot after allegedly holding u...  \n",
              "1  <p>On May 12, 2019 at approximately 3:48 p.m.,...  \n",
              "2  <p>On May 25, 2019 at approximately 9:26 a.m.,...  \n",
              "3  <p>Morgan State Police were called for a \"non-...  \n",
              "4                                                NaN  "
            ]
          },
          "execution_count": 5,
          "metadata": {},
          "output_type": "execute_result"
        }
      ],
      "source": [
        "#Checking the data\n",
        "df.head(5)"
      ]
    },
    {
      "cell_type": "code",
      "execution_count": 6,
      "metadata": {
        "colab": {
          "base_uri": "https://localhost:8080/"
        },
        "id": "UpcZah4zljia",
        "outputId": "ac1d43d4-460c-4015-d48f-af72943bc91e"
      },
      "outputs": [
        {
          "data": {
            "text/plain": [
              "id                   0\n",
              "first_name          50\n",
              "last_name           55\n",
              "age                 43\n",
              "gender               0\n",
              "race                 0\n",
              "cause                0\n",
              "death_loc            0\n",
              "district             0\n",
              "street_address       0\n",
              "zip_code             0\n",
              "latitude             0\n",
              "longitude            0\n",
              "date                 0\n",
              "time               494\n",
              "notes             3113\n",
              "dtype: int64"
            ]
          },
          "execution_count": 6,
          "metadata": {},
          "output_type": "execute_result"
        }
      ],
      "source": [
        "#Checking missing values\n",
        "df.isnull().sum()"
      ]
    },
    {
      "cell_type": "markdown",
      "metadata": {
        "id": "R9vsm-Iwlliq"
      },
      "source": [
        "The missing values here are mostly considered normal so almost no entry should be dropped, as long as we're only trying to describe the data as a whole. This is due to how some victims might be found in less than ideal situations whether they were unrecognized, having their time of death unknown, having a ruined/tampered crime scene thus not being able to find enough evidence, or other reasons that might not make it possible for the authorities to find other informations regarding the homicide.\n",
        "\n",
        "Regarding the age column, though the missing values are not dropped, they should be filled with median value in order to not disturb the distribution of the data."
      ]
    },
    {
      "cell_type": "code",
      "execution_count": 7,
      "metadata": {
        "colab": {
          "base_uri": "https://localhost:8080/",
          "height": 337
        },
        "id": "DA6NhYoMn9pA",
        "outputId": "c2d81ebb-c9e0-48f0-a734-c2de512ad7ae"
      },
      "outputs": [
        {
          "data": {
            "text/html": [
              "<div>\n",
              "<style scoped>\n",
              "    .dataframe tbody tr th:only-of-type {\n",
              "        vertical-align: middle;\n",
              "    }\n",
              "\n",
              "    .dataframe tbody tr th {\n",
              "        vertical-align: top;\n",
              "    }\n",
              "\n",
              "    .dataframe thead th {\n",
              "        text-align: right;\n",
              "    }\n",
              "</style>\n",
              "<table border=\"1\" class=\"dataframe\">\n",
              "  <thead>\n",
              "    <tr style=\"text-align: right;\">\n",
              "      <th></th>\n",
              "      <th>id</th>\n",
              "      <th>first_name</th>\n",
              "      <th>last_name</th>\n",
              "      <th>age</th>\n",
              "      <th>gender</th>\n",
              "      <th>race</th>\n",
              "      <th>cause</th>\n",
              "      <th>death_loc</th>\n",
              "      <th>district</th>\n",
              "      <th>street_address</th>\n",
              "      <th>zip_code</th>\n",
              "      <th>latitude</th>\n",
              "      <th>longitude</th>\n",
              "      <th>date</th>\n",
              "      <th>time</th>\n",
              "      <th>notes</th>\n",
              "    </tr>\n",
              "  </thead>\n",
              "  <tbody>\n",
              "    <tr>\n",
              "      <th>0</th>\n",
              "      <td>3298</td>\n",
              "      <td>Gregory</td>\n",
              "      <td>Sinclair</td>\n",
              "      <td>31.0</td>\n",
              "      <td>male</td>\n",
              "      <td>black</td>\n",
              "      <td>shooting</td>\n",
              "      <td>unknown</td>\n",
              "      <td>SE</td>\n",
              "      <td>2300 Fleet St</td>\n",
              "      <td>21224</td>\n",
              "      <td>39.285140</td>\n",
              "      <td>-76.584100</td>\n",
              "      <td>2019-01-12</td>\n",
              "      <td>2022-11-01 19:29:00</td>\n",
              "      <td>&lt;p&gt;Sinclair was shot after allegedly holding u...</td>\n",
              "    </tr>\n",
              "    <tr>\n",
              "      <th>1</th>\n",
              "      <td>3402</td>\n",
              "      <td>Name not yet released</td>\n",
              "      <td>unknown</td>\n",
              "      <td>NaN</td>\n",
              "      <td>female</td>\n",
              "      <td>unknown</td>\n",
              "      <td>unknown</td>\n",
              "      <td>unknown</td>\n",
              "      <td>NW</td>\n",
              "      <td>3901 Clarks Lane</td>\n",
              "      <td>21215</td>\n",
              "      <td>39.358600</td>\n",
              "      <td>-76.702790</td>\n",
              "      <td>2019-05-12</td>\n",
              "      <td>2022-11-01 15:48:00</td>\n",
              "      <td>&lt;p&gt;On May 12, 2019 at approximately 3:48 p.m.,...</td>\n",
              "    </tr>\n",
              "    <tr>\n",
              "      <th>2</th>\n",
              "      <td>3417</td>\n",
              "      <td>Andre</td>\n",
              "      <td>Davis</td>\n",
              "      <td>25.0</td>\n",
              "      <td>male</td>\n",
              "      <td>unknown</td>\n",
              "      <td>unknown</td>\n",
              "      <td>unknown</td>\n",
              "      <td>ND</td>\n",
              "      <td>500 E 26th Street</td>\n",
              "      <td>21218</td>\n",
              "      <td>39.319180</td>\n",
              "      <td>-76.609010</td>\n",
              "      <td>2019-05-31</td>\n",
              "      <td>unknown</td>\n",
              "      <td>&lt;p&gt;On May 25, 2019 at approximately 9:26 a.m.,...</td>\n",
              "    </tr>\n",
              "    <tr>\n",
              "      <th>3</th>\n",
              "      <td>3459</td>\n",
              "      <td>Name not yet released</td>\n",
              "      <td>unknown</td>\n",
              "      <td>NaN</td>\n",
              "      <td>male</td>\n",
              "      <td>hispanic</td>\n",
              "      <td>shooting</td>\n",
              "      <td>scene</td>\n",
              "      <td>NE</td>\n",
              "      <td>4700 Loch Raven Blvd</td>\n",
              "      <td>21239</td>\n",
              "      <td>39.347950</td>\n",
              "      <td>-76.592300</td>\n",
              "      <td>2019-07-11</td>\n",
              "      <td>2022-11-01 04:50:00</td>\n",
              "      <td>&lt;p&gt;Morgan State Police were called for a \"non-...</td>\n",
              "    </tr>\n",
              "    <tr>\n",
              "      <th>4</th>\n",
              "      <td>3487</td>\n",
              "      <td>Malachi</td>\n",
              "      <td>Lawson</td>\n",
              "      <td>4.0</td>\n",
              "      <td>male</td>\n",
              "      <td>black</td>\n",
              "      <td>unknown</td>\n",
              "      <td>scene</td>\n",
              "      <td>NW</td>\n",
              "      <td>5500 Haddon Ave</td>\n",
              "      <td>21207</td>\n",
              "      <td>39.336441</td>\n",
              "      <td>-76.702588</td>\n",
              "      <td>2019-08-03</td>\n",
              "      <td>2022-11-01 04:45:00</td>\n",
              "      <td>No Notes</td>\n",
              "    </tr>\n",
              "  </tbody>\n",
              "</table>\n",
              "</div>"
            ],
            "text/plain": [
              "     id             first_name last_name   age  gender      race     cause  \\\n",
              "0  3298                Gregory  Sinclair  31.0    male     black  shooting   \n",
              "1  3402  Name not yet released   unknown   NaN  female   unknown   unknown   \n",
              "2  3417                  Andre     Davis  25.0    male   unknown   unknown   \n",
              "3  3459  Name not yet released   unknown   NaN    male  hispanic  shooting   \n",
              "4  3487                Malachi    Lawson   4.0    male     black   unknown   \n",
              "\n",
              "  death_loc district        street_address  zip_code   latitude  longitude  \\\n",
              "0   unknown       SE         2300 Fleet St     21224  39.285140 -76.584100   \n",
              "1   unknown       NW      3901 Clarks Lane     21215  39.358600 -76.702790   \n",
              "2   unknown       ND     500 E 26th Street     21218  39.319180 -76.609010   \n",
              "3     scene       NE  4700 Loch Raven Blvd     21239  39.347950 -76.592300   \n",
              "4     scene       NW       5500 Haddon Ave     21207  39.336441 -76.702588   \n",
              "\n",
              "        date                 time  \\\n",
              "0 2019-01-12  2022-11-01 19:29:00   \n",
              "1 2019-05-12  2022-11-01 15:48:00   \n",
              "2 2019-05-31              unknown   \n",
              "3 2019-07-11  2022-11-01 04:50:00   \n",
              "4 2019-08-03  2022-11-01 04:45:00   \n",
              "\n",
              "                                               notes  \n",
              "0  <p>Sinclair was shot after allegedly holding u...  \n",
              "1  <p>On May 12, 2019 at approximately 3:48 p.m.,...  \n",
              "2  <p>On May 25, 2019 at approximately 9:26 a.m.,...  \n",
              "3  <p>Morgan State Police were called for a \"non-...  \n",
              "4                                           No Notes  "
            ]
          },
          "execution_count": 7,
          "metadata": {},
          "output_type": "execute_result"
        }
      ],
      "source": [
        "#Creating & cleaning dataframe for visualization & descriptive statistics\n",
        "df2 = df.copy()\n",
        "df2['first_name'] = df2['first_name'].fillna(value='unknown')\n",
        "df2['last_name'] = df2['last_name'].fillna(value='unknown')\n",
        "df2['time'] = df2['time'].fillna(value='unknown')\n",
        "df2['notes'] = df2['notes'].fillna(value='No Notes')\n",
        "df2.head(5)"
      ]
    },
    {
      "cell_type": "code",
      "execution_count": 8,
      "metadata": {
        "colab": {
          "base_uri": "https://localhost:8080/"
        },
        "id": "ZPpEdcWsoPdb",
        "outputId": "483af576-389e-4942-8019-1744902fe9b9"
      },
      "outputs": [
        {
          "name": "stdout",
          "output_type": "stream",
          "text": [
            "0.0\n",
            "31.095809792843692\n",
            "0    24.0\n",
            "Name: age, dtype: float64\n",
            "29.0\n"
          ]
        }
      ],
      "source": [
        "print(df2['age'].min())\n",
        "print(df2['age'].mean())\n",
        "print(df2['age'].mode())\n",
        "print(df2['age'].median())"
      ]
    },
    {
      "cell_type": "code",
      "execution_count": 9,
      "metadata": {
        "colab": {
          "base_uri": "https://localhost:8080/",
          "height": 337
        },
        "id": "5v4TVtiIowRc",
        "outputId": "e71b3b9d-9b06-48fa-e486-63946d793b17"
      },
      "outputs": [
        {
          "data": {
            "text/html": [
              "<div>\n",
              "<style scoped>\n",
              "    .dataframe tbody tr th:only-of-type {\n",
              "        vertical-align: middle;\n",
              "    }\n",
              "\n",
              "    .dataframe tbody tr th {\n",
              "        vertical-align: top;\n",
              "    }\n",
              "\n",
              "    .dataframe thead th {\n",
              "        text-align: right;\n",
              "    }\n",
              "</style>\n",
              "<table border=\"1\" class=\"dataframe\">\n",
              "  <thead>\n",
              "    <tr style=\"text-align: right;\">\n",
              "      <th></th>\n",
              "      <th>id</th>\n",
              "      <th>first_name</th>\n",
              "      <th>last_name</th>\n",
              "      <th>age</th>\n",
              "      <th>gender</th>\n",
              "      <th>race</th>\n",
              "      <th>cause</th>\n",
              "      <th>death_loc</th>\n",
              "      <th>district</th>\n",
              "      <th>street_address</th>\n",
              "      <th>zip_code</th>\n",
              "      <th>latitude</th>\n",
              "      <th>longitude</th>\n",
              "      <th>date</th>\n",
              "      <th>time</th>\n",
              "      <th>notes</th>\n",
              "    </tr>\n",
              "  </thead>\n",
              "  <tbody>\n",
              "    <tr>\n",
              "      <th>0</th>\n",
              "      <td>3298</td>\n",
              "      <td>Gregory</td>\n",
              "      <td>Sinclair</td>\n",
              "      <td>31.0</td>\n",
              "      <td>male</td>\n",
              "      <td>black</td>\n",
              "      <td>shooting</td>\n",
              "      <td>unknown</td>\n",
              "      <td>SE</td>\n",
              "      <td>2300 Fleet St</td>\n",
              "      <td>21224</td>\n",
              "      <td>39.285140</td>\n",
              "      <td>-76.584100</td>\n",
              "      <td>2019-01-12</td>\n",
              "      <td>2022-11-01 19:29:00</td>\n",
              "      <td>&lt;p&gt;Sinclair was shot after allegedly holding u...</td>\n",
              "    </tr>\n",
              "    <tr>\n",
              "      <th>1</th>\n",
              "      <td>3402</td>\n",
              "      <td>Name not yet released</td>\n",
              "      <td>unknown</td>\n",
              "      <td>29.0</td>\n",
              "      <td>female</td>\n",
              "      <td>unknown</td>\n",
              "      <td>unknown</td>\n",
              "      <td>unknown</td>\n",
              "      <td>NW</td>\n",
              "      <td>3901 Clarks Lane</td>\n",
              "      <td>21215</td>\n",
              "      <td>39.358600</td>\n",
              "      <td>-76.702790</td>\n",
              "      <td>2019-05-12</td>\n",
              "      <td>2022-11-01 15:48:00</td>\n",
              "      <td>&lt;p&gt;On May 12, 2019 at approximately 3:48 p.m.,...</td>\n",
              "    </tr>\n",
              "    <tr>\n",
              "      <th>2</th>\n",
              "      <td>3417</td>\n",
              "      <td>Andre</td>\n",
              "      <td>Davis</td>\n",
              "      <td>25.0</td>\n",
              "      <td>male</td>\n",
              "      <td>unknown</td>\n",
              "      <td>unknown</td>\n",
              "      <td>unknown</td>\n",
              "      <td>ND</td>\n",
              "      <td>500 E 26th Street</td>\n",
              "      <td>21218</td>\n",
              "      <td>39.319180</td>\n",
              "      <td>-76.609010</td>\n",
              "      <td>2019-05-31</td>\n",
              "      <td>unknown</td>\n",
              "      <td>&lt;p&gt;On May 25, 2019 at approximately 9:26 a.m.,...</td>\n",
              "    </tr>\n",
              "    <tr>\n",
              "      <th>3</th>\n",
              "      <td>3459</td>\n",
              "      <td>Name not yet released</td>\n",
              "      <td>unknown</td>\n",
              "      <td>29.0</td>\n",
              "      <td>male</td>\n",
              "      <td>hispanic</td>\n",
              "      <td>shooting</td>\n",
              "      <td>scene</td>\n",
              "      <td>NE</td>\n",
              "      <td>4700 Loch Raven Blvd</td>\n",
              "      <td>21239</td>\n",
              "      <td>39.347950</td>\n",
              "      <td>-76.592300</td>\n",
              "      <td>2019-07-11</td>\n",
              "      <td>2022-11-01 04:50:00</td>\n",
              "      <td>&lt;p&gt;Morgan State Police were called for a \"non-...</td>\n",
              "    </tr>\n",
              "    <tr>\n",
              "      <th>4</th>\n",
              "      <td>3487</td>\n",
              "      <td>Malachi</td>\n",
              "      <td>Lawson</td>\n",
              "      <td>4.0</td>\n",
              "      <td>male</td>\n",
              "      <td>black</td>\n",
              "      <td>unknown</td>\n",
              "      <td>scene</td>\n",
              "      <td>NW</td>\n",
              "      <td>5500 Haddon Ave</td>\n",
              "      <td>21207</td>\n",
              "      <td>39.336441</td>\n",
              "      <td>-76.702588</td>\n",
              "      <td>2019-08-03</td>\n",
              "      <td>2022-11-01 04:45:00</td>\n",
              "      <td>No Notes</td>\n",
              "    </tr>\n",
              "  </tbody>\n",
              "</table>\n",
              "</div>"
            ],
            "text/plain": [
              "     id             first_name last_name   age  gender      race     cause  \\\n",
              "0  3298                Gregory  Sinclair  31.0    male     black  shooting   \n",
              "1  3402  Name not yet released   unknown  29.0  female   unknown   unknown   \n",
              "2  3417                  Andre     Davis  25.0    male   unknown   unknown   \n",
              "3  3459  Name not yet released   unknown  29.0    male  hispanic  shooting   \n",
              "4  3487                Malachi    Lawson   4.0    male     black   unknown   \n",
              "\n",
              "  death_loc district        street_address  zip_code   latitude  longitude  \\\n",
              "0   unknown       SE         2300 Fleet St     21224  39.285140 -76.584100   \n",
              "1   unknown       NW      3901 Clarks Lane     21215  39.358600 -76.702790   \n",
              "2   unknown       ND     500 E 26th Street     21218  39.319180 -76.609010   \n",
              "3     scene       NE  4700 Loch Raven Blvd     21239  39.347950 -76.592300   \n",
              "4     scene       NW       5500 Haddon Ave     21207  39.336441 -76.702588   \n",
              "\n",
              "        date                 time  \\\n",
              "0 2019-01-12  2022-11-01 19:29:00   \n",
              "1 2019-05-12  2022-11-01 15:48:00   \n",
              "2 2019-05-31              unknown   \n",
              "3 2019-07-11  2022-11-01 04:50:00   \n",
              "4 2019-08-03  2022-11-01 04:45:00   \n",
              "\n",
              "                                               notes  \n",
              "0  <p>Sinclair was shot after allegedly holding u...  \n",
              "1  <p>On May 12, 2019 at approximately 3:48 p.m.,...  \n",
              "2  <p>On May 25, 2019 at approximately 9:26 a.m.,...  \n",
              "3  <p>Morgan State Police were called for a \"non-...  \n",
              "4                                           No Notes  "
            ]
          },
          "execution_count": 9,
          "metadata": {},
          "output_type": "execute_result"
        }
      ],
      "source": [
        "df2['age'] = df2['age'].fillna(29)\n",
        "df2.head(5)"
      ]
    },
    {
      "cell_type": "code",
      "execution_count": 10,
      "metadata": {
        "colab": {
          "base_uri": "https://localhost:8080/"
        },
        "id": "4PCR9IQ9pq-B",
        "outputId": "fefed484-0c7c-4f9a-e2a3-2eb002647aa1"
      },
      "outputs": [
        {
          "data": {
            "text/plain": [
              "WD    661\n",
              "ED    640\n",
              "SW    578\n",
              "NW    561\n",
              "NE    551\n",
              "SD    420\n",
              "SE    292\n",
              "ND    290\n",
              "CD    279\n",
              "??     19\n",
              "Name: district, dtype: int64"
            ]
          },
          "execution_count": 10,
          "metadata": {},
          "output_type": "execute_result"
        }
      ],
      "source": [
        "#Checking the districts\n",
        "df2['district'].value_counts()"
      ]
    },
    {
      "cell_type": "markdown",
      "metadata": {
        "id": "ELBfrXlzp9Ho"
      },
      "source": [
        "From checking the district column, it is found that there are 19 entries where the input is invalid. Just in case that column is needed for inferential statistics, it wouldn't make sense if we try to keep those entries because the question remains on how is it possible that the authorities not know which part of Baltimore the victim is found in. Therefore, it's decided to drop those entries. The missing values on other columns such as age and cause are also dropped for the same purpose"
      ]
    },
    {
      "cell_type": "code",
      "execution_count": 11,
      "metadata": {
        "colab": {
          "base_uri": "https://localhost:8080/",
          "height": 641
        },
        "id": "oh_D8njerbH-",
        "outputId": "6d71e897-78b4-4af2-9e75-03353294fbc5"
      },
      "outputs": [
        {
          "data": {
            "text/html": [
              "<div>\n",
              "<style scoped>\n",
              "    .dataframe tbody tr th:only-of-type {\n",
              "        vertical-align: middle;\n",
              "    }\n",
              "\n",
              "    .dataframe tbody tr th {\n",
              "        vertical-align: top;\n",
              "    }\n",
              "\n",
              "    .dataframe thead th {\n",
              "        text-align: right;\n",
              "    }\n",
              "</style>\n",
              "<table border=\"1\" class=\"dataframe\">\n",
              "  <thead>\n",
              "    <tr style=\"text-align: right;\">\n",
              "      <th></th>\n",
              "      <th>id</th>\n",
              "      <th>first_name</th>\n",
              "      <th>last_name</th>\n",
              "      <th>age</th>\n",
              "      <th>gender</th>\n",
              "      <th>race</th>\n",
              "      <th>cause</th>\n",
              "      <th>death_loc</th>\n",
              "      <th>district</th>\n",
              "      <th>street_address</th>\n",
              "      <th>zip_code</th>\n",
              "      <th>latitude</th>\n",
              "      <th>longitude</th>\n",
              "      <th>date</th>\n",
              "      <th>time</th>\n",
              "      <th>notes</th>\n",
              "    </tr>\n",
              "  </thead>\n",
              "  <tbody>\n",
              "    <tr>\n",
              "      <th>0</th>\n",
              "      <td>3298</td>\n",
              "      <td>Gregory</td>\n",
              "      <td>Sinclair</td>\n",
              "      <td>31.0</td>\n",
              "      <td>male</td>\n",
              "      <td>black</td>\n",
              "      <td>shooting</td>\n",
              "      <td>unknown</td>\n",
              "      <td>SE</td>\n",
              "      <td>2300 Fleet St</td>\n",
              "      <td>21224</td>\n",
              "      <td>39.285140</td>\n",
              "      <td>-76.584100</td>\n",
              "      <td>2019-01-12</td>\n",
              "      <td>2022-11-01 19:29:00</td>\n",
              "      <td>&lt;p&gt;Sinclair was shot after allegedly holding u...</td>\n",
              "    </tr>\n",
              "    <tr>\n",
              "      <th>1</th>\n",
              "      <td>3402</td>\n",
              "      <td>Name not yet released</td>\n",
              "      <td>unknown</td>\n",
              "      <td>29.0</td>\n",
              "      <td>female</td>\n",
              "      <td>unknown</td>\n",
              "      <td>unknown</td>\n",
              "      <td>unknown</td>\n",
              "      <td>NW</td>\n",
              "      <td>3901 Clarks Lane</td>\n",
              "      <td>21215</td>\n",
              "      <td>39.358600</td>\n",
              "      <td>-76.702790</td>\n",
              "      <td>2019-05-12</td>\n",
              "      <td>2022-11-01 15:48:00</td>\n",
              "      <td>&lt;p&gt;On May 12, 2019 at approximately 3:48 p.m.,...</td>\n",
              "    </tr>\n",
              "    <tr>\n",
              "      <th>2</th>\n",
              "      <td>3417</td>\n",
              "      <td>Andre</td>\n",
              "      <td>Davis</td>\n",
              "      <td>25.0</td>\n",
              "      <td>male</td>\n",
              "      <td>unknown</td>\n",
              "      <td>unknown</td>\n",
              "      <td>unknown</td>\n",
              "      <td>ND</td>\n",
              "      <td>500 E 26th Street</td>\n",
              "      <td>21218</td>\n",
              "      <td>39.319180</td>\n",
              "      <td>-76.609010</td>\n",
              "      <td>2019-05-31</td>\n",
              "      <td>unknown</td>\n",
              "      <td>&lt;p&gt;On May 25, 2019 at approximately 9:26 a.m.,...</td>\n",
              "    </tr>\n",
              "    <tr>\n",
              "      <th>3</th>\n",
              "      <td>3459</td>\n",
              "      <td>Name not yet released</td>\n",
              "      <td>unknown</td>\n",
              "      <td>29.0</td>\n",
              "      <td>male</td>\n",
              "      <td>hispanic</td>\n",
              "      <td>shooting</td>\n",
              "      <td>scene</td>\n",
              "      <td>NE</td>\n",
              "      <td>4700 Loch Raven Blvd</td>\n",
              "      <td>21239</td>\n",
              "      <td>39.347950</td>\n",
              "      <td>-76.592300</td>\n",
              "      <td>2019-07-11</td>\n",
              "      <td>2022-11-01 04:50:00</td>\n",
              "      <td>&lt;p&gt;Morgan State Police were called for a \"non-...</td>\n",
              "    </tr>\n",
              "    <tr>\n",
              "      <th>4</th>\n",
              "      <td>3487</td>\n",
              "      <td>Malachi</td>\n",
              "      <td>Lawson</td>\n",
              "      <td>4.0</td>\n",
              "      <td>male</td>\n",
              "      <td>black</td>\n",
              "      <td>unknown</td>\n",
              "      <td>scene</td>\n",
              "      <td>NW</td>\n",
              "      <td>5500 Haddon Ave</td>\n",
              "      <td>21207</td>\n",
              "      <td>39.336441</td>\n",
              "      <td>-76.702588</td>\n",
              "      <td>2019-08-03</td>\n",
              "      <td>2022-11-01 04:45:00</td>\n",
              "      <td>No Notes</td>\n",
              "    </tr>\n",
              "    <tr>\n",
              "      <th>...</th>\n",
              "      <td>...</td>\n",
              "      <td>...</td>\n",
              "      <td>...</td>\n",
              "      <td>...</td>\n",
              "      <td>...</td>\n",
              "      <td>...</td>\n",
              "      <td>...</td>\n",
              "      <td>...</td>\n",
              "      <td>...</td>\n",
              "      <td>...</td>\n",
              "      <td>...</td>\n",
              "      <td>...</td>\n",
              "      <td>...</td>\n",
              "      <td>...</td>\n",
              "      <td>...</td>\n",
              "      <td>...</td>\n",
              "    </tr>\n",
              "    <tr>\n",
              "      <th>4286</th>\n",
              "      <td>6</td>\n",
              "      <td>Edward</td>\n",
              "      <td>Canupp</td>\n",
              "      <td>61.0</td>\n",
              "      <td>male</td>\n",
              "      <td>white</td>\n",
              "      <td>bluntforce</td>\n",
              "      <td>scene</td>\n",
              "      <td>SD</td>\n",
              "      <td>500 Maude Ave.</td>\n",
              "      <td>21225</td>\n",
              "      <td>39.238881</td>\n",
              "      <td>-76.602565</td>\n",
              "      <td>2007-01-05</td>\n",
              "      <td>2022-11-01 02:20:00</td>\n",
              "      <td>No Notes</td>\n",
              "    </tr>\n",
              "    <tr>\n",
              "      <th>4287</th>\n",
              "      <td>5</td>\n",
              "      <td>Thomas</td>\n",
              "      <td>MacKenney</td>\n",
              "      <td>21.0</td>\n",
              "      <td>male</td>\n",
              "      <td>black</td>\n",
              "      <td>asphyxiation</td>\n",
              "      <td>scene</td>\n",
              "      <td>ND</td>\n",
              "      <td>5900 Northwood Drive</td>\n",
              "      <td>21212</td>\n",
              "      <td>39.364241</td>\n",
              "      <td>-76.599179</td>\n",
              "      <td>2007-01-03</td>\n",
              "      <td>2022-11-01 14:00:00</td>\n",
              "      <td>No Notes</td>\n",
              "    </tr>\n",
              "    <tr>\n",
              "      <th>4288</th>\n",
              "      <td>4</td>\n",
              "      <td>Nelsene</td>\n",
              "      <td>Burnette</td>\n",
              "      <td>44.0</td>\n",
              "      <td>female</td>\n",
              "      <td>black</td>\n",
              "      <td>bluntforce</td>\n",
              "      <td>scene</td>\n",
              "      <td>WD</td>\n",
              "      <td>2000 West North Ave</td>\n",
              "      <td>21217</td>\n",
              "      <td>39.309954</td>\n",
              "      <td>-76.650051</td>\n",
              "      <td>2007-01-02</td>\n",
              "      <td>2022-11-01 18:30:00</td>\n",
              "      <td>No Notes</td>\n",
              "    </tr>\n",
              "    <tr>\n",
              "      <th>4289</th>\n",
              "      <td>3</td>\n",
              "      <td>Eddie</td>\n",
              "      <td>Golf</td>\n",
              "      <td>26.0</td>\n",
              "      <td>male</td>\n",
              "      <td>black</td>\n",
              "      <td>shooting</td>\n",
              "      <td>scene</td>\n",
              "      <td>SW</td>\n",
              "      <td>4900 Challedon Road</td>\n",
              "      <td>21207</td>\n",
              "      <td>39.312646</td>\n",
              "      <td>-76.699146</td>\n",
              "      <td>2007-01-02</td>\n",
              "      <td>2022-11-01 14:48:00</td>\n",
              "      <td>No Notes</td>\n",
              "    </tr>\n",
              "    <tr>\n",
              "      <th>4290</th>\n",
              "      <td>2</td>\n",
              "      <td>Leon</td>\n",
              "      <td>Nelson</td>\n",
              "      <td>17.0</td>\n",
              "      <td>male</td>\n",
              "      <td>black</td>\n",
              "      <td>shooting</td>\n",
              "      <td>shock-trauma</td>\n",
              "      <td>SW</td>\n",
              "      <td>3400 Clifton Ave.</td>\n",
              "      <td>21216</td>\n",
              "      <td>39.311024</td>\n",
              "      <td>-76.674227</td>\n",
              "      <td>2007-01-01</td>\n",
              "      <td>2022-11-01 18:45:00</td>\n",
              "      <td>No Notes</td>\n",
              "    </tr>\n",
              "  </tbody>\n",
              "</table>\n",
              "<p>4291 rows × 16 columns</p>\n",
              "</div>"
            ],
            "text/plain": [
              "        id             first_name  last_name   age  gender      race  \\\n",
              "0     3298                Gregory   Sinclair  31.0    male     black   \n",
              "1     3402  Name not yet released    unknown  29.0  female   unknown   \n",
              "2     3417                  Andre      Davis  25.0    male   unknown   \n",
              "3     3459  Name not yet released    unknown  29.0    male  hispanic   \n",
              "4     3487                Malachi     Lawson   4.0    male     black   \n",
              "...    ...                    ...        ...   ...     ...       ...   \n",
              "4286     6                 Edward     Canupp  61.0    male     white   \n",
              "4287     5                 Thomas  MacKenney  21.0    male     black   \n",
              "4288     4                Nelsene   Burnette  44.0  female     black   \n",
              "4289     3                  Eddie       Golf  26.0    male     black   \n",
              "4290     2                   Leon     Nelson  17.0    male     black   \n",
              "\n",
              "             cause     death_loc district        street_address  zip_code  \\\n",
              "0         shooting       unknown       SE         2300 Fleet St     21224   \n",
              "1          unknown       unknown       NW      3901 Clarks Lane     21215   \n",
              "2          unknown       unknown       ND     500 E 26th Street     21218   \n",
              "3         shooting         scene       NE  4700 Loch Raven Blvd     21239   \n",
              "4          unknown         scene       NW       5500 Haddon Ave     21207   \n",
              "...            ...           ...      ...                   ...       ...   \n",
              "4286    bluntforce         scene       SD        500 Maude Ave.     21225   \n",
              "4287  asphyxiation         scene       ND  5900 Northwood Drive     21212   \n",
              "4288    bluntforce         scene       WD   2000 West North Ave     21217   \n",
              "4289      shooting         scene       SW  4900 Challedon Road      21207   \n",
              "4290      shooting  shock-trauma       SW     3400 Clifton Ave.     21216   \n",
              "\n",
              "       latitude  longitude       date                 time  \\\n",
              "0     39.285140 -76.584100 2019-01-12  2022-11-01 19:29:00   \n",
              "1     39.358600 -76.702790 2019-05-12  2022-11-01 15:48:00   \n",
              "2     39.319180 -76.609010 2019-05-31              unknown   \n",
              "3     39.347950 -76.592300 2019-07-11  2022-11-01 04:50:00   \n",
              "4     39.336441 -76.702588 2019-08-03  2022-11-01 04:45:00   \n",
              "...         ...        ...        ...                  ...   \n",
              "4286  39.238881 -76.602565 2007-01-05  2022-11-01 02:20:00   \n",
              "4287  39.364241 -76.599179 2007-01-03  2022-11-01 14:00:00   \n",
              "4288  39.309954 -76.650051 2007-01-02  2022-11-01 18:30:00   \n",
              "4289  39.312646 -76.699146 2007-01-02  2022-11-01 14:48:00   \n",
              "4290  39.311024 -76.674227 2007-01-01  2022-11-01 18:45:00   \n",
              "\n",
              "                                                  notes  \n",
              "0     <p>Sinclair was shot after allegedly holding u...  \n",
              "1     <p>On May 12, 2019 at approximately 3:48 p.m.,...  \n",
              "2     <p>On May 25, 2019 at approximately 9:26 a.m.,...  \n",
              "3     <p>Morgan State Police were called for a \"non-...  \n",
              "4                                              No Notes  \n",
              "...                                                 ...  \n",
              "4286                                           No Notes  \n",
              "4287                                           No Notes  \n",
              "4288                                           No Notes  \n",
              "4289                                           No Notes  \n",
              "4290                                           No Notes  \n",
              "\n",
              "[4291 rows x 16 columns]"
            ]
          },
          "execution_count": 11,
          "metadata": {},
          "output_type": "execute_result"
        }
      ],
      "source": [
        "#Creating & cleaning dataframe for inferential statistics\n",
        "df3 = df2.copy()\n",
        "df3 = (df3.dropna(subset=['age']))\n",
        "df3"
      ]
    },
    {
      "cell_type": "code",
      "execution_count": 12,
      "metadata": {
        "colab": {
          "base_uri": "https://localhost:8080/",
          "height": 710
        },
        "id": "6MQ_QrUHrj2x",
        "outputId": "609bbea4-741a-4126-af78-2034f6a7678d"
      },
      "outputs": [
        {
          "data": {
            "text/html": [
              "<div>\n",
              "<style scoped>\n",
              "    .dataframe tbody tr th:only-of-type {\n",
              "        vertical-align: middle;\n",
              "    }\n",
              "\n",
              "    .dataframe tbody tr th {\n",
              "        vertical-align: top;\n",
              "    }\n",
              "\n",
              "    .dataframe thead th {\n",
              "        text-align: right;\n",
              "    }\n",
              "</style>\n",
              "<table border=\"1\" class=\"dataframe\">\n",
              "  <thead>\n",
              "    <tr style=\"text-align: right;\">\n",
              "      <th></th>\n",
              "      <th>id</th>\n",
              "      <th>first_name</th>\n",
              "      <th>last_name</th>\n",
              "      <th>age</th>\n",
              "      <th>gender</th>\n",
              "      <th>race</th>\n",
              "      <th>cause</th>\n",
              "      <th>death_loc</th>\n",
              "      <th>district</th>\n",
              "      <th>street_address</th>\n",
              "      <th>zip_code</th>\n",
              "      <th>latitude</th>\n",
              "      <th>longitude</th>\n",
              "      <th>date</th>\n",
              "      <th>time</th>\n",
              "      <th>notes</th>\n",
              "    </tr>\n",
              "  </thead>\n",
              "  <tbody>\n",
              "    <tr>\n",
              "      <th>0</th>\n",
              "      <td>3298</td>\n",
              "      <td>Gregory</td>\n",
              "      <td>Sinclair</td>\n",
              "      <td>31.0</td>\n",
              "      <td>male</td>\n",
              "      <td>black</td>\n",
              "      <td>shooting</td>\n",
              "      <td>unknown</td>\n",
              "      <td>SE</td>\n",
              "      <td>2300 Fleet St</td>\n",
              "      <td>21224</td>\n",
              "      <td>39.285140</td>\n",
              "      <td>-76.584100</td>\n",
              "      <td>2019-01-12</td>\n",
              "      <td>2022-11-01 19:29:00</td>\n",
              "      <td>&lt;p&gt;Sinclair was shot after allegedly holding u...</td>\n",
              "    </tr>\n",
              "    <tr>\n",
              "      <th>3</th>\n",
              "      <td>3459</td>\n",
              "      <td>Name not yet released</td>\n",
              "      <td>unknown</td>\n",
              "      <td>29.0</td>\n",
              "      <td>male</td>\n",
              "      <td>hispanic</td>\n",
              "      <td>shooting</td>\n",
              "      <td>scene</td>\n",
              "      <td>NE</td>\n",
              "      <td>4700 Loch Raven Blvd</td>\n",
              "      <td>21239</td>\n",
              "      <td>39.347950</td>\n",
              "      <td>-76.592300</td>\n",
              "      <td>2019-07-11</td>\n",
              "      <td>2022-11-01 04:50:00</td>\n",
              "      <td>&lt;p&gt;Morgan State Police were called for a \"non-...</td>\n",
              "    </tr>\n",
              "    <tr>\n",
              "      <th>10</th>\n",
              "      <td>3591</td>\n",
              "      <td>John</td>\n",
              "      <td>Feggins</td>\n",
              "      <td>24.0</td>\n",
              "      <td>male</td>\n",
              "      <td>black</td>\n",
              "      <td>shooting</td>\n",
              "      <td>unknown</td>\n",
              "      <td>ND</td>\n",
              "      <td>6300 York Rd</td>\n",
              "      <td>21212</td>\n",
              "      <td>39.370825</td>\n",
              "      <td>-76.610610</td>\n",
              "      <td>2019-10-30</td>\n",
              "      <td>2022-11-01 09:40:00</td>\n",
              "      <td>&lt;p&gt;Police involved shooting&lt;/p&gt;</td>\n",
              "    </tr>\n",
              "    <tr>\n",
              "      <th>51</th>\n",
              "      <td>4407</td>\n",
              "      <td>Jawan</td>\n",
              "      <td>Hall</td>\n",
              "      <td>25.0</td>\n",
              "      <td>male</td>\n",
              "      <td>black</td>\n",
              "      <td>shooting</td>\n",
              "      <td>unknown</td>\n",
              "      <td>NW</td>\n",
              "      <td>Liberty Heights Ave and Gwynn Oak Ave</td>\n",
              "      <td>21207</td>\n",
              "      <td>39.331344</td>\n",
              "      <td>-76.695616</td>\n",
              "      <td>2022-03-12</td>\n",
              "      <td>2022-11-01 20:20:00</td>\n",
              "      <td>&lt;p&gt;Four people were shot, three of which died....</td>\n",
              "    </tr>\n",
              "    <tr>\n",
              "      <th>52</th>\n",
              "      <td>4406</td>\n",
              "      <td>Darian</td>\n",
              "      <td>Savoy</td>\n",
              "      <td>26.0</td>\n",
              "      <td>male</td>\n",
              "      <td>black</td>\n",
              "      <td>shooting</td>\n",
              "      <td>unknown</td>\n",
              "      <td>NE</td>\n",
              "      <td>Liberty Heights Ave and Gwynn Oak Ave</td>\n",
              "      <td>21207</td>\n",
              "      <td>39.331344</td>\n",
              "      <td>-76.695616</td>\n",
              "      <td>2022-03-12</td>\n",
              "      <td>2022-11-01 20:20:00</td>\n",
              "      <td>&lt;p&gt;Four people were shot, three of which died....</td>\n",
              "    </tr>\n",
              "    <tr>\n",
              "      <th>...</th>\n",
              "      <td>...</td>\n",
              "      <td>...</td>\n",
              "      <td>...</td>\n",
              "      <td>...</td>\n",
              "      <td>...</td>\n",
              "      <td>...</td>\n",
              "      <td>...</td>\n",
              "      <td>...</td>\n",
              "      <td>...</td>\n",
              "      <td>...</td>\n",
              "      <td>...</td>\n",
              "      <td>...</td>\n",
              "      <td>...</td>\n",
              "      <td>...</td>\n",
              "      <td>...</td>\n",
              "      <td>...</td>\n",
              "    </tr>\n",
              "    <tr>\n",
              "      <th>4286</th>\n",
              "      <td>6</td>\n",
              "      <td>Edward</td>\n",
              "      <td>Canupp</td>\n",
              "      <td>61.0</td>\n",
              "      <td>male</td>\n",
              "      <td>white</td>\n",
              "      <td>bluntforce</td>\n",
              "      <td>scene</td>\n",
              "      <td>SD</td>\n",
              "      <td>500 Maude Ave.</td>\n",
              "      <td>21225</td>\n",
              "      <td>39.238881</td>\n",
              "      <td>-76.602565</td>\n",
              "      <td>2007-01-05</td>\n",
              "      <td>2022-11-01 02:20:00</td>\n",
              "      <td>No Notes</td>\n",
              "    </tr>\n",
              "    <tr>\n",
              "      <th>4287</th>\n",
              "      <td>5</td>\n",
              "      <td>Thomas</td>\n",
              "      <td>MacKenney</td>\n",
              "      <td>21.0</td>\n",
              "      <td>male</td>\n",
              "      <td>black</td>\n",
              "      <td>asphyxiation</td>\n",
              "      <td>scene</td>\n",
              "      <td>ND</td>\n",
              "      <td>5900 Northwood Drive</td>\n",
              "      <td>21212</td>\n",
              "      <td>39.364241</td>\n",
              "      <td>-76.599179</td>\n",
              "      <td>2007-01-03</td>\n",
              "      <td>2022-11-01 14:00:00</td>\n",
              "      <td>No Notes</td>\n",
              "    </tr>\n",
              "    <tr>\n",
              "      <th>4288</th>\n",
              "      <td>4</td>\n",
              "      <td>Nelsene</td>\n",
              "      <td>Burnette</td>\n",
              "      <td>44.0</td>\n",
              "      <td>female</td>\n",
              "      <td>black</td>\n",
              "      <td>bluntforce</td>\n",
              "      <td>scene</td>\n",
              "      <td>WD</td>\n",
              "      <td>2000 West North Ave</td>\n",
              "      <td>21217</td>\n",
              "      <td>39.309954</td>\n",
              "      <td>-76.650051</td>\n",
              "      <td>2007-01-02</td>\n",
              "      <td>2022-11-01 18:30:00</td>\n",
              "      <td>No Notes</td>\n",
              "    </tr>\n",
              "    <tr>\n",
              "      <th>4289</th>\n",
              "      <td>3</td>\n",
              "      <td>Eddie</td>\n",
              "      <td>Golf</td>\n",
              "      <td>26.0</td>\n",
              "      <td>male</td>\n",
              "      <td>black</td>\n",
              "      <td>shooting</td>\n",
              "      <td>scene</td>\n",
              "      <td>SW</td>\n",
              "      <td>4900 Challedon Road</td>\n",
              "      <td>21207</td>\n",
              "      <td>39.312646</td>\n",
              "      <td>-76.699146</td>\n",
              "      <td>2007-01-02</td>\n",
              "      <td>2022-11-01 14:48:00</td>\n",
              "      <td>No Notes</td>\n",
              "    </tr>\n",
              "    <tr>\n",
              "      <th>4290</th>\n",
              "      <td>2</td>\n",
              "      <td>Leon</td>\n",
              "      <td>Nelson</td>\n",
              "      <td>17.0</td>\n",
              "      <td>male</td>\n",
              "      <td>black</td>\n",
              "      <td>shooting</td>\n",
              "      <td>shock-trauma</td>\n",
              "      <td>SW</td>\n",
              "      <td>3400 Clifton Ave.</td>\n",
              "      <td>21216</td>\n",
              "      <td>39.311024</td>\n",
              "      <td>-76.674227</td>\n",
              "      <td>2007-01-01</td>\n",
              "      <td>2022-11-01 18:45:00</td>\n",
              "      <td>No Notes</td>\n",
              "    </tr>\n",
              "  </tbody>\n",
              "</table>\n",
              "<p>3544 rows × 16 columns</p>\n",
              "</div>"
            ],
            "text/plain": [
              "        id             first_name  last_name   age  gender      race  \\\n",
              "0     3298                Gregory   Sinclair  31.0    male     black   \n",
              "3     3459  Name not yet released    unknown  29.0    male  hispanic   \n",
              "10    3591                   John    Feggins  24.0    male     black   \n",
              "51    4407                  Jawan       Hall  25.0    male     black   \n",
              "52    4406                 Darian      Savoy  26.0    male     black   \n",
              "...    ...                    ...        ...   ...     ...       ...   \n",
              "4286     6                 Edward     Canupp  61.0    male     white   \n",
              "4287     5                 Thomas  MacKenney  21.0    male     black   \n",
              "4288     4                Nelsene   Burnette  44.0  female     black   \n",
              "4289     3                  Eddie       Golf  26.0    male     black   \n",
              "4290     2                   Leon     Nelson  17.0    male     black   \n",
              "\n",
              "             cause     death_loc district  \\\n",
              "0         shooting       unknown       SE   \n",
              "3         shooting         scene       NE   \n",
              "10        shooting       unknown       ND   \n",
              "51        shooting       unknown       NW   \n",
              "52        shooting       unknown       NE   \n",
              "...            ...           ...      ...   \n",
              "4286    bluntforce         scene       SD   \n",
              "4287  asphyxiation         scene       ND   \n",
              "4288    bluntforce         scene       WD   \n",
              "4289      shooting         scene       SW   \n",
              "4290      shooting  shock-trauma       SW   \n",
              "\n",
              "                             street_address  zip_code   latitude  longitude  \\\n",
              "0                             2300 Fleet St     21224  39.285140 -76.584100   \n",
              "3                      4700 Loch Raven Blvd     21239  39.347950 -76.592300   \n",
              "10                             6300 York Rd     21212  39.370825 -76.610610   \n",
              "51    Liberty Heights Ave and Gwynn Oak Ave     21207  39.331344 -76.695616   \n",
              "52    Liberty Heights Ave and Gwynn Oak Ave     21207  39.331344 -76.695616   \n",
              "...                                     ...       ...        ...        ...   \n",
              "4286                         500 Maude Ave.     21225  39.238881 -76.602565   \n",
              "4287                   5900 Northwood Drive     21212  39.364241 -76.599179   \n",
              "4288                    2000 West North Ave     21217  39.309954 -76.650051   \n",
              "4289                   4900 Challedon Road      21207  39.312646 -76.699146   \n",
              "4290                      3400 Clifton Ave.     21216  39.311024 -76.674227   \n",
              "\n",
              "           date                 time  \\\n",
              "0    2019-01-12  2022-11-01 19:29:00   \n",
              "3    2019-07-11  2022-11-01 04:50:00   \n",
              "10   2019-10-30  2022-11-01 09:40:00   \n",
              "51   2022-03-12  2022-11-01 20:20:00   \n",
              "52   2022-03-12  2022-11-01 20:20:00   \n",
              "...         ...                  ...   \n",
              "4286 2007-01-05  2022-11-01 02:20:00   \n",
              "4287 2007-01-03  2022-11-01 14:00:00   \n",
              "4288 2007-01-02  2022-11-01 18:30:00   \n",
              "4289 2007-01-02  2022-11-01 14:48:00   \n",
              "4290 2007-01-01  2022-11-01 18:45:00   \n",
              "\n",
              "                                                  notes  \n",
              "0     <p>Sinclair was shot after allegedly holding u...  \n",
              "3     <p>Morgan State Police were called for a \"non-...  \n",
              "10                      <p>Police involved shooting</p>  \n",
              "51    <p>Four people were shot, three of which died....  \n",
              "52    <p>Four people were shot, three of which died....  \n",
              "...                                                 ...  \n",
              "4286                                           No Notes  \n",
              "4287                                           No Notes  \n",
              "4288                                           No Notes  \n",
              "4289                                           No Notes  \n",
              "4290                                           No Notes  \n",
              "\n",
              "[3544 rows x 16 columns]"
            ]
          },
          "execution_count": 12,
          "metadata": {},
          "output_type": "execute_result"
        }
      ],
      "source": [
        "df3 = df3[df3['district'] != '??']\n",
        "df3 = df3[df3['cause'] != 'unknown']\n",
        "df3 = df3[df3['race'] != 'unknown']\n",
        "df3"
      ]
    },
    {
      "cell_type": "markdown",
      "metadata": {
        "id": "IJfh1aYCtkSx"
      },
      "source": [
        "## Data Exploratory Analysis"
      ]
    },
    {
      "cell_type": "code",
      "execution_count": 45,
      "metadata": {
        "colab": {
          "base_uri": "https://localhost:8080/"
        },
        "id": "qZlJJMnwtPYR",
        "outputId": "c0aead85-ad5b-4f42-e45c-2bbae9c9c4af"
      },
      "outputs": [
        {
          "data": {
            "text/plain": [
              "Timestamp('2022-04-06 00:00:00')"
            ]
          },
          "execution_count": 45,
          "metadata": {},
          "output_type": "execute_result"
        }
      ],
      "source": [
        "df['date'].max()"
      ]
    },
    {
      "cell_type": "code",
      "execution_count": 46,
      "metadata": {
        "colab": {
          "base_uri": "https://localhost:8080/"
        },
        "id": "GEgZuegZtp7h",
        "outputId": "a80e2455-3379-44c2-f3ce-ec997ab58139"
      },
      "outputs": [
        {
          "data": {
            "text/plain": [
              "Timestamp('2007-01-01 00:00:00')"
            ]
          },
          "execution_count": 46,
          "metadata": {},
          "output_type": "execute_result"
        }
      ],
      "source": [
        "df['date'].min()"
      ]
    },
    {
      "cell_type": "markdown",
      "metadata": {
        "id": "NCK9YaanSGIP"
      },
      "source": [
        "This shows that the last entry to this data is the data on 6th of April 2022."
      ]
    },
    {
      "cell_type": "markdown",
      "metadata": {
        "id": "4MdZ7ssxttgx"
      },
      "source": [
        "**Which part of Baltimore has the highest percentage of homicide?**"
      ]
    },
    {
      "cell_type": "code",
      "execution_count": 47,
      "metadata": {
        "id": "A1w5M0gwtuMo"
      },
      "outputs": [],
      "source": [
        "#Baltimore areas\n",
        "tot_d = df['district'].value_counts()"
      ]
    },
    {
      "cell_type": "code",
      "execution_count": 48,
      "metadata": {
        "colab": {
          "base_uri": "https://localhost:8080/",
          "height": 283
        },
        "id": "7BAfA0JjuAfA",
        "outputId": "ad3cb071-f3bd-4579-fb26-a7180f95a586"
      },
      "outputs": [
        {
          "data": {
            "text/plain": [
              "<BarContainer object of 10 artists>"
            ]
          },
          "execution_count": 48,
          "metadata": {},
          "output_type": "execute_result"
        },
        {
          "data": {
            "image/png": "[encoded data removed]",
            "text/plain": [
              "<Figure size 432x288 with 1 Axes>"
            ]
          },
          "metadata": {
            "needs_background": "light"
          },
          "output_type": "display_data"
        }
      ],
      "source": [
        "plt.bar(x = tot_d.index, height = tot_d, color ='maroon',\n",
        "        width = 0.4)"
      ]
    },
    {
      "cell_type": "markdown",
      "metadata": {
        "id": "5JhtFz2buLah"
      },
      "source": [
        "From the analysis, it's known that the top 3 districts that has the highest number of homicide from 2007-2022 are Western (WD), Eastern (ED), and Southwestern (SW). There is a label that doesn't provide any information as to where the homicide occured.\n",
        "\n",
        "This data should be adjusted with the population number in each district for further analysis. This is because even the numbers of homicide might not take into account the population density of the area."
      ]
    },
    {
      "cell_type": "markdown",
      "metadata": {
        "id": "I2CXFlJ5vHwx"
      },
      "source": [
        "**What attributes does the victims typically have?**"
      ]
    },
    {
      "cell_type": "code",
      "execution_count": 49,
      "metadata": {
        "colab": {
          "base_uri": "https://localhost:8080/"
        },
        "id": "reKH2qo3vI6g",
        "outputId": "d2b1103d-29a7-459b-ec9d-7e130eef1549"
      },
      "outputs": [
        {
          "data": {
            "text/plain": [
              "male       3847\n",
              "female      438\n",
              "unknown       6\n",
              "Name: gender, dtype: int64"
            ]
          },
          "execution_count": 49,
          "metadata": {},
          "output_type": "execute_result"
        }
      ],
      "source": [
        "#Gender\n",
        "tot_g = df['gender'].value_counts()\n",
        "tot_g"
      ]
    },
    {
      "cell_type": "code",
      "execution_count": 50,
      "metadata": {
        "colab": {
          "base_uri": "https://localhost:8080/",
          "height": 537
        },
        "id": "Vb37z-h6vODg",
        "outputId": "c014af2e-1671-4e61-f5ce-4c945612dbf1"
      },
      "outputs": [
        {
          "name": "stderr",
          "output_type": "stream",
          "text": [
            "C:\\Users\\praba\\AppData\\Local\\Temp\\ipykernel_13228\\2164898941.py:3: MatplotlibDeprecationWarning: The 'b' parameter of grid() has been renamed 'visible' since Matplotlib 3.5; support for the old name will be dropped two minor releases later.\n",
            "  ax.grid(b = True, color ='grey',\n"
          ]
        },
        {
          "data": {
            "image/png": "[encoded data removed]",
            "text/plain": [
              "<Figure size 1152x648 with 1 Axes>"
            ]
          },
          "metadata": {
            "needs_background": "light"
          },
          "output_type": "display_data"
        }
      ],
      "source": [
        "fig, ax = plt.subplots(figsize =(16, 9))\n",
        "ax.barh(tot_g.index, tot_g) \n",
        "ax.grid(b = True, color ='grey',\n",
        "        linestyle ='-.', linewidth = 0.5,\n",
        "        alpha = 0.2)\n",
        " \n",
        "ax.invert_yaxis()\n",
        "\n",
        "# Add annotation to bars\n",
        "for i in ax.patches:\n",
        "    plt.text(i.get_width()+0.2, i.get_y()+0.5,\n",
        "             str(round((i.get_width()), 2)),\n",
        "             fontsize = 10, fontweight ='bold',\n",
        "             color ='grey')"
      ]
    },
    {
      "cell_type": "markdown",
      "metadata": {
        "id": "fLrL3iJaENiS"
      },
      "source": [
        "The data shows that most of the homicide victims in Baltimore are males with 3847 cases while female victims are only making out to be 438 cases. This should also be compared to the real population and societal phenomenon in Baltimore.\n",
        "\n",
        "The unknown label in this column is questionable due to our inability to verify the cause of 6 cases being put into unknown gender. For all we know it could be a birth condition (intersex), or the due to the body retrieval condition."
      ]
    },
    {
      "cell_type": "code",
      "execution_count": 51,
      "metadata": {
        "colab": {
          "base_uri": "https://localhost:8080/"
        },
        "id": "lRhFJ0WIwPE4",
        "outputId": "1061a1c1-cf0b-45fb-cce4-0e12360da051"
      },
      "outputs": [
        {
          "data": {
            "text/plain": [
              "black       3320\n",
              "unknown      695\n",
              "white        195\n",
              "hispanic      68\n",
              "asian         13\n",
              "Name: race, dtype: int64"
            ]
          },
          "execution_count": 51,
          "metadata": {},
          "output_type": "execute_result"
        }
      ],
      "source": [
        "#Race\n",
        "op = ['asian', 'black', 'hispanic', 'unknown','white']\n",
        "tot_r = df['race'].value_counts()\n",
        "tot_r"
      ]
    },
    {
      "cell_type": "code",
      "execution_count": 52,
      "metadata": {
        "colab": {
          "base_uri": "https://localhost:8080/"
        },
        "id": "k_JV3TC8wSCp",
        "outputId": "daeb6aad-912f-4f33-81f4-8adb042dbfa9"
      },
      "outputs": [
        {
          "data": {
            "text/plain": [
              "race\n",
              "asian         13\n",
              "black       3320\n",
              "hispanic      68\n",
              "unknown      695\n",
              "white        195\n",
              "Name: race, dtype: int64"
            ]
          },
          "execution_count": 52,
          "metadata": {},
          "output_type": "execute_result"
        }
      ],
      "source": [
        "#Creating dataset\n",
        "col = set(df['race'])\n",
        "tot1 = df2.groupby('race')['race'].count()\n",
        "tot1"
      ]
    },
    {
      "cell_type": "code",
      "execution_count": 53,
      "metadata": {
        "colab": {
          "base_uri": "https://localhost:8080/",
          "height": 411
        },
        "id": "h9yxMWyawXwp",
        "outputId": "1f4bd050-ff6c-40fa-a0c1-8164b24d3197"
      },
      "outputs": [
        {
          "data": {
            "image/png": "[encoded data removed]",
            "text/plain": [
              "<Figure size 720x504 with 1 Axes>"
            ]
          },
          "metadata": {},
          "output_type": "display_data"
        }
      ],
      "source": [
        "# Creating plot\n",
        "fig = plt.figure(figsize =(10, 7))\n",
        "plt.pie(tot1, labels = op, autopct='%.2f%%')\n",
        " \n",
        "# show plot\n",
        "plt.show()"
      ]
    },
    {
      "cell_type": "markdown",
      "metadata": {
        "id": "n18qnm1fC908"
      },
      "source": [
        "The data shows that a huge number of the victims are black people making up to be 77.37% of the total cases while other races only making up below 5% of the total cases with asian people having the lowest percentage at 0.30%. The result of this data needs to be compared to the real data population in order to understand why black people are making out to be the highest number of victims.\n",
        "\n",
        "From this data it should also be highlighted that there is an unknown label. We also can't verify why some of the victims' races are unknown, but from sheer assumption, it could be because some of them are multiracial, or perhaps it's due to the condition of the body when it's retrieved making it difficult to determine their race."
      ]
    },
    {
      "cell_type": "code",
      "execution_count": 57,
      "metadata": {
        "colab": {
          "base_uri": "https://localhost:8080/"
        },
        "id": "3J3pHUCww_bZ",
        "outputId": "aaa95504-41b5-4972-a020-ee6132fe400b"
      },
      "outputs": [
        {
          "data": {
            "text/plain": [
              "0.0      5\n",
              "1.0     42\n",
              "2.0     13\n",
              "3.0      5\n",
              "4.0      5\n",
              "        ..\n",
              "85.0     1\n",
              "86.0     1\n",
              "90.0     1\n",
              "91.0     1\n",
              "97.0     1\n",
              "Name: age, Length: 88, dtype: int64"
            ]
          },
          "execution_count": 57,
          "metadata": {},
          "output_type": "execute_result"
        }
      ],
      "source": [
        "#Age\n",
        "df2['age'].value_counts().sort_index() #looking at the min and max value"
      ]
    },
    {
      "cell_type": "code",
      "execution_count": 58,
      "metadata": {
        "colab": {
          "base_uri": "https://localhost:8080/"
        },
        "id": "tUFnEIRexBcK",
        "outputId": "952acedc-3aec-421f-cecd-bab3b90711ba"
      },
      "outputs": [
        {
          "data": {
            "text/plain": [
              "29.0    216\n",
              "24.0    208\n",
              "26.0    206\n",
              "25.0    178\n",
              "21.0    175\n",
              "       ... \n",
              "90.0      1\n",
              "97.0      1\n",
              "75.0      1\n",
              "76.0      1\n",
              "81.0      1\n",
              "Name: age, Length: 88, dtype: int64"
            ]
          },
          "execution_count": 58,
          "metadata": {},
          "output_type": "execute_result"
        }
      ],
      "source": [
        "df2['age'].value_counts() #looking at the most prevalent age in the case"
      ]
    },
    {
      "cell_type": "code",
      "execution_count": 59,
      "metadata": {
        "colab": {
          "base_uri": "https://localhost:8080/"
        },
        "id": "aLGcOBXlxFAx",
        "outputId": "c638bc46-f205-4d8d-fa73-14c76afb1b8d"
      },
      "outputs": [
        {
          "name": "stdout",
          "output_type": "stream",
          "text": [
            "0.0\n",
            "31.074807737124214\n",
            "0    29.0\n",
            "Name: age, dtype: float64\n",
            "29.0\n",
            "97.0\n"
          ]
        }
      ],
      "source": [
        "print(df2['age'].min())\n",
        "print(df2['age'].mean())\n",
        "print(df2['age'].mode())\n",
        "print(df2['age'].median())\n",
        "print(df2['age'].max())"
      ]
    },
    {
      "cell_type": "code",
      "execution_count": 60,
      "metadata": {
        "colab": {
          "base_uri": "https://localhost:8080/"
        },
        "id": "ndw1voeVAw4M",
        "outputId": "df6f894a-f91c-4ed6-e25c-21a413229abc"
      },
      "outputs": [
        {
          "data": {
            "text/plain": [
              "0.9914622300011919"
            ]
          },
          "execution_count": 60,
          "metadata": {},
          "output_type": "execute_result"
        }
      ],
      "source": [
        "df2['age'].skew()"
      ]
    },
    {
      "cell_type": "code",
      "execution_count": 61,
      "metadata": {
        "colab": {
          "base_uri": "https://localhost:8080/"
        },
        "id": "DWoGDA9KyC8R",
        "outputId": "243e4553-74ce-4ebb-e20f-eee1890d69bb"
      },
      "outputs": [
        {
          "name": "stdout",
          "output_type": "stream",
          "text": [
            "Sorted Age :  [0.0, 0.0, 0.0, 0.0, 0.0, 1.0, 1.0, 1.0, 1.0, 1.0, 1.0, 1.0, 1.0, 1.0, 1.0, 1.0, 1.0, 1.0, 1.0, 1.0, 1.0, 1.0, 1.0, 1.0, 1.0, 1.0, 1.0, 1.0, 1.0, 1.0, 1.0, 1.0, 1.0, 1.0, 1.0, 1.0, 1.0, 1.0, 1.0, 1.0, 1.0, 1.0, 1.0, 1.0, 1.0, 1.0, 1.0, 2.0, 2.0, 2.0, 2.0, 2.0, 2.0, 2.0, 2.0, 2.0, 2.0, 2.0, 2.0, 2.0, 3.0, 3.0, 3.0, 3.0, 3.0, 4.0, 4.0, 4.0, 4.0, 4.0, 5.0, 5.0, 6.0, 6.0, 7.0, 7.0, 7.0, 8.0, 10.0, 11.0, 12.0, 13.0, 13.0, 13.0, 13.0, 13.0, 14.0, 14.0, 14.0, 14.0, 14.0, 14.0, 14.0, 14.0, 14.0, 14.0, 15.0, 15.0, 15.0, 15.0, 15.0, 15.0, 15.0, 15.0, 15.0, 15.0, 15.0, 15.0, 15.0, 15.0, 15.0, 15.0, 15.0, 15.0, 15.0, 15.0, 15.0, 15.0, 15.0, 15.0, 15.0, 15.0, 16.0, 16.0, 16.0, 16.0, 16.0, 16.0, 16.0, 16.0, 16.0, 16.0, 16.0, 16.0, 16.0, 16.0, 16.0, 16.0, 16.0, 16.0, 16.0, 16.0, 16.0, 16.0, 16.0, 16.0, 16.0, 16.0, 16.0, 16.0, 16.0, 16.0, 16.0, 16.0, 16.0, 16.0, 16.0, 16.0, 16.0, 16.0, 16.0, 16.0, 16.0, 16.0, 16.0, 16.0, 16.0, 16.0, 16.0, 16.0, 16.0, 17.0, 17.0, 17.0, 17.0, 17.0, 17.0, 17.0, 17.0, 17.0, 17.0, 17.0, 17.0, 17.0, 17.0, 17.0, 17.0, 17.0, 17.0, 17.0, 17.0, 17.0, 17.0, 17.0, 17.0, 17.0, 17.0, 17.0, 17.0, 17.0, 17.0, 17.0, 17.0, 17.0, 17.0, 17.0, 17.0, 17.0, 17.0, 17.0, 17.0, 17.0, 17.0, 17.0, 17.0, 17.0, 17.0, 17.0, 17.0, 17.0, 17.0, 17.0, 17.0, 17.0, 17.0, 17.0, 17.0, 17.0, 17.0, 17.0, 17.0, 17.0, 17.0, 17.0, 17.0, 17.0, 17.0, 17.0, 17.0, 17.0, 17.0, 17.0, 17.0, 17.0, 17.0, 17.0, 17.0, 17.0, 17.0, 17.0, 17.0, 17.0, 17.0, 17.0, 17.0, 17.0, 17.0, 17.0, 18.0, 18.0, 18.0, 18.0, 18.0, 18.0, 18.0, 18.0, 18.0, 18.0, 18.0, 18.0, 18.0, 18.0, 18.0, 18.0, 18.0, 18.0, 18.0, 18.0, 18.0, 18.0, 18.0, 18.0, 18.0, 18.0, 18.0, 18.0, 18.0, 18.0, 18.0, 18.0, 18.0, 18.0, 18.0, 18.0, 18.0, 18.0, 18.0, 18.0, 18.0, 18.0, 18.0, 18.0, 18.0, 18.0, 18.0, 18.0, 18.0, 18.0, 18.0, 18.0, 18.0, 18.0, 18.0, 18.0, 18.0, 18.0, 18.0, 18.0, 18.0, 18.0, 18.0, 18.0, 18.0, 18.0, 18.0, 18.0, 18.0, 18.0, 18.0, 18.0, 18.0, 18.0, 18.0, 18.0, 18.0, 18.0, 18.0, 18.0, 18.0, 18.0, 18.0, 18.0, 18.0, 18.0, 18.0, 18.0, 18.0, 18.0, 18.0, 18.0, 18.0, 18.0, 18.0, 18.0, 18.0, 18.0, 18.0, 18.0, 18.0, 18.0, 18.0, 18.0, 18.0, 18.0, 18.0, 18.0, 18.0, 18.0, 18.0, 18.0, 18.0, 18.0, 18.0, 18.0, 18.0, 18.0, 18.0, 19.0, 19.0, 19.0, 19.0, 19.0, 19.0, 19.0, 19.0, 19.0, 19.0, 19.0, 19.0, 19.0, 19.0, 19.0, 19.0, 19.0, 19.0, 19.0, 19.0, 19.0, 19.0, 19.0, 19.0, 19.0, 19.0, 19.0, 19.0, 19.0, 19.0, 19.0, 19.0, 19.0, 19.0, 19.0, 19.0, 19.0, 19.0, 19.0, 19.0, 19.0, 19.0, 19.0, 19.0, 19.0, 19.0, 19.0, 19.0, 19.0, 19.0, 19.0, 19.0, 19.0, 19.0, 19.0, 19.0, 19.0, 19.0, 19.0, 19.0, 19.0, 19.0, 19.0, 19.0, 19.0, 19.0, 19.0, 19.0, 19.0, 19.0, 19.0, 19.0, 19.0, 19.0, 19.0, 19.0, 19.0, 19.0, 19.0, 19.0, 19.0, 19.0, 19.0, 19.0, 19.0, 19.0, 19.0, 19.0, 19.0, 19.0, 19.0, 19.0, 19.0, 19.0, 19.0, 19.0, 19.0, 19.0, 19.0, 19.0, 19.0, 19.0, 19.0, 19.0, 19.0, 19.0, 19.0, 19.0, 19.0, 19.0, 19.0, 19.0, 19.0, 19.0, 19.0, 19.0, 19.0, 19.0, 19.0, 19.0, 19.0, 19.0, 19.0, 19.0, 19.0, 19.0, 19.0, 19.0, 19.0, 19.0, 19.0, 19.0, 19.0, 19.0, 19.0, 19.0, 19.0, 19.0, 20.0, 20.0, 20.0, 20.0, 20.0, 20.0, 20.0, 20.0, 20.0, 20.0, 20.0, 20.0, 20.0, 20.0, 20.0, 20.0, 20.0, 20.0, 20.0, 20.0, 20.0, 20.0, 20.0, 20.0, 20.0, 20.0, 20.0, 20.0, 20.0, 20.0, 20.0, 20.0, 20.0, 20.0, 20.0, 20.0, 20.0, 20.0, 20.0, 20.0, 20.0, 20.0, 20.0, 20.0, 20.0, 20.0, 20.0, 20.0, 20.0, 20.0, 20.0, 20.0, 20.0, 20.0, 20.0, 20.0, 20.0, 20.0, 20.0, 20.0, 20.0, 20.0, 20.0, 20.0, 20.0, 20.0, 20.0, 20.0, 20.0, 20.0, 20.0, 20.0, 20.0, 20.0, 20.0, 20.0, 20.0, 20.0, 20.0, 20.0, 20.0, 20.0, 20.0, 20.0, 20.0, 20.0, 20.0, 20.0, 20.0, 20.0, 20.0, 20.0, 20.0, 20.0, 20.0, 20.0, 20.0, 20.0, 20.0, 20.0, 20.0, 20.0, 20.0, 20.0, 20.0, 20.0, 20.0, 20.0, 20.0, 20.0, 20.0, 20.0, 20.0, 20.0, 20.0, 20.0, 20.0, 20.0, 20.0, 20.0, 20.0, 20.0, 20.0, 20.0, 20.0, 20.0, 20.0, 20.0, 20.0, 20.0, 20.0, 20.0, 20.0, 20.0, 20.0, 20.0, 20.0, 20.0, 20.0, 20.0, 20.0, 20.0, 20.0, 20.0, 20.0, 20.0, 20.0, 20.0, 20.0, 20.0, 20.0, 20.0, 20.0, 20.0, 20.0, 20.0, 20.0, 20.0, 20.0, 20.0, 20.0, 20.0, 20.0, 20.0, 20.0, 20.0, 20.0, 20.0, 20.0, 21.0, 21.0, 21.0, 21.0, 21.0, 21.0, 21.0, 21.0, 21.0, 21.0, 21.0, 21.0, 21.0, 21.0, 21.0, 21.0, 21.0, 21.0, 21.0, 21.0, 21.0, 21.0, 21.0, 21.0, 21.0, 21.0, 21.0, 21.0, 21.0, 21.0, 21.0, 21.0, 21.0, 21.0, 21.0, 21.0, 21.0, 21.0, 21.0, 21.0, 21.0, 21.0, 21.0, 21.0, 21.0, 21.0, 21.0, 21.0, 21.0, 21.0, 21.0, 21.0, 21.0, 21.0, 21.0, 21.0, 21.0, 21.0, 21.0, 21.0, 21.0, 21.0, 21.0, 21.0, 21.0, 21.0, 21.0, 21.0, 21.0, 21.0, 21.0, 21.0, 21.0, 21.0, 21.0, 21.0, 21.0, 21.0, 21.0, 21.0, 21.0, 21.0, 21.0, 21.0, 21.0, 21.0, 21.0, 21.0, 21.0, 21.0, 21.0, 21.0, 21.0, 21.0, 21.0, 21.0, 21.0, 21.0, 21.0, 21.0, 21.0, 21.0, 21.0, 21.0, 21.0, 21.0, 21.0, 21.0, 21.0, 21.0, 21.0, 21.0, 21.0, 21.0, 21.0, 21.0, 21.0, 21.0, 21.0, 21.0, 21.0, 21.0, 21.0, 21.0, 21.0, 21.0, 21.0, 21.0, 21.0, 21.0, 21.0, 21.0, 21.0, 21.0, 21.0, 21.0, 21.0, 21.0, 21.0, 21.0, 21.0, 21.0, 21.0, 21.0, 21.0, 21.0, 21.0, 21.0, 21.0, 21.0, 21.0, 21.0, 21.0, 21.0, 21.0, 21.0, 21.0, 21.0, 21.0, 21.0, 21.0, 21.0, 21.0, 21.0, 21.0, 21.0, 21.0, 21.0, 21.0, 21.0, 21.0, 21.0, 21.0, 21.0, 21.0, 22.0, 22.0, 22.0, 22.0, 22.0, 22.0, 22.0, 22.0, 22.0, 22.0, 22.0, 22.0, 22.0, 22.0, 22.0, 22.0, 22.0, 22.0, 22.0, 22.0, 22.0, 22.0, 22.0, 22.0, 22.0, 22.0, 22.0, 22.0, 22.0, 22.0, 22.0, 22.0, 22.0, 22.0, 22.0, 22.0, 22.0, 22.0, 22.0, 22.0, 22.0, 22.0, 22.0, 22.0, 22.0, 22.0, 22.0, 22.0, 22.0, 22.0, 22.0, 22.0, 22.0, 22.0, 22.0, 22.0, 22.0, 22.0, 22.0, 22.0, 22.0, 22.0, 22.0, 22.0, 22.0, 22.0, 22.0, 22.0, 22.0, 22.0, 22.0, 22.0, 22.0, 22.0, 22.0, 22.0, 22.0, 22.0, 22.0, 22.0, 22.0, 22.0, 22.0, 22.0, 22.0, 22.0, 22.0, 22.0, 22.0, 22.0, 22.0, 22.0, 22.0, 22.0, 22.0, 22.0, 22.0, 22.0, 22.0, 22.0, 22.0, 22.0, 22.0, 22.0, 22.0, 22.0, 22.0, 22.0, 22.0, 22.0, 22.0, 22.0, 22.0, 22.0, 22.0, 22.0, 22.0, 22.0, 22.0, 22.0, 22.0, 22.0, 22.0, 22.0, 22.0, 22.0, 22.0, 22.0, 22.0, 22.0, 22.0, 22.0, 22.0, 22.0, 22.0, 22.0, 22.0, 22.0, 22.0, 22.0, 22.0, 22.0, 22.0, 22.0, 22.0, 22.0, 22.0, 22.0, 22.0, 22.0, 22.0, 22.0, 22.0, 22.0, 22.0, 22.0, 22.0, 22.0, 22.0, 22.0, 22.0, 22.0, 22.0, 22.0, 22.0, 22.0, 22.0, 22.0, 22.0, 22.0, 22.0, 22.0, 22.0, 22.0, 23.0, 23.0, 23.0, 23.0, 23.0, 23.0, 23.0, 23.0, 23.0, 23.0, 23.0, 23.0, 23.0, 23.0, 23.0, 23.0, 23.0, 23.0, 23.0, 23.0, 23.0, 23.0, 23.0, 23.0, 23.0, 23.0, 23.0, 23.0, 23.0, 23.0, 23.0, 23.0, 23.0, 23.0, 23.0, 23.0, 23.0, 23.0, 23.0, 23.0, 23.0, 23.0, 23.0, 23.0, 23.0, 23.0, 23.0, 23.0, 23.0, 23.0, 23.0, 23.0, 23.0, 23.0, 23.0, 23.0, 23.0, 23.0, 23.0, 23.0, 23.0, 23.0, 23.0, 23.0, 23.0, 23.0, 23.0, 23.0, 23.0, 23.0, 23.0, 23.0, 23.0, 23.0, 23.0, 23.0, 23.0, 23.0, 23.0, 23.0, 23.0, 23.0, 23.0, 23.0, 23.0, 23.0, 23.0, 23.0, 23.0, 23.0, 23.0, 23.0, 23.0, 23.0, 23.0, 23.0, 23.0, 23.0, 23.0, 23.0, 23.0, 23.0, 23.0, 23.0, 23.0, 23.0, 23.0, 23.0, 23.0, 23.0, 23.0, 23.0, 23.0, 23.0, 23.0, 23.0, 23.0, 23.0, 23.0, 23.0, 23.0, 23.0, 23.0, 23.0, 23.0, 23.0, 23.0, 23.0, 23.0, 23.0, 23.0, 23.0, 23.0, 23.0, 23.0, 23.0, 23.0, 23.0, 23.0, 23.0, 23.0, 23.0, 23.0, 23.0, 23.0, 23.0, 23.0, 23.0, 23.0, 23.0, 23.0, 23.0, 23.0, 23.0, 23.0, 23.0, 23.0, 23.0, 23.0, 23.0, 23.0, 23.0, 23.0, 23.0, 23.0, 23.0, 23.0, 23.0, 23.0, 23.0, 23.0, 23.0, 23.0, 23.0, 23.0, 24.0, 24.0, 24.0, 24.0, 24.0, 24.0, 24.0, 24.0, 24.0, 24.0, 24.0, 24.0, 24.0, 24.0, 24.0, 24.0, 24.0, 24.0, 24.0, 24.0, 24.0, 24.0, 24.0, 24.0, 24.0, 24.0, 24.0, 24.0, 24.0, 24.0, 24.0, 24.0, 24.0, 24.0, 24.0, 24.0, 24.0, 24.0, 24.0, 24.0, 24.0, 24.0, 24.0, 24.0, 24.0, 24.0, 24.0, 24.0, 24.0, 24.0, 24.0, 24.0, 24.0, 24.0, 24.0, 24.0, 24.0, 24.0, 24.0, 24.0, 24.0, 24.0, 24.0, 24.0, 24.0, 24.0, 24.0, 24.0, 24.0, 24.0, 24.0, 24.0, 24.0, 24.0, 24.0, 24.0, 24.0, 24.0, 24.0, 24.0, 24.0, 24.0, 24.0, 24.0, 24.0, 24.0, 24.0, 24.0, 24.0, 24.0, 24.0, 24.0, 24.0, 24.0, 24.0, 24.0, 24.0, 24.0, 24.0, 24.0, 24.0, 24.0, 24.0, 24.0, 24.0, 24.0, 24.0, 24.0, 24.0, 24.0, 24.0, 24.0, 24.0, 24.0, 24.0, 24.0, 24.0, 24.0, 24.0, 24.0, 24.0, 24.0, 24.0, 24.0, 24.0, 24.0, 24.0, 24.0, 24.0, 24.0, 24.0, 24.0, 24.0, 24.0, 24.0, 24.0, 24.0, 24.0, 24.0, 24.0, 24.0, 24.0, 24.0, 24.0, 24.0, 24.0, 24.0, 24.0, 24.0, 24.0, 24.0, 24.0, 24.0, 24.0, 24.0, 24.0, 24.0, 24.0, 24.0, 24.0, 24.0, 24.0, 24.0, 24.0, 24.0, 24.0, 24.0, 24.0, 24.0, 24.0, 24.0, 24.0, 24.0, 24.0, 24.0, 24.0, 24.0, 24.0, 24.0, 24.0, 24.0, 24.0, 24.0, 24.0, 24.0, 24.0, 24.0, 24.0, 24.0, 24.0, 24.0, 24.0, 24.0, 24.0, 24.0, 24.0, 24.0, 24.0, 24.0, 24.0, 24.0, 24.0, 24.0, 24.0, 24.0, 24.0, 24.0, 24.0, 25.0, 25.0, 25.0, 25.0, 25.0, 25.0, 25.0, 25.0, 25.0, 25.0, 25.0, 25.0, 25.0, 25.0, 25.0, 25.0, 25.0, 25.0, 25.0, 25.0, 25.0, 25.0, 25.0, 25.0, 25.0, 25.0, 25.0, 25.0, 25.0, 25.0, 25.0, 25.0, 25.0, 25.0, 25.0, 25.0, 25.0, 25.0, 25.0, 25.0, 25.0, 25.0, 25.0, 25.0, 25.0, 25.0, 25.0, 25.0, 25.0, 25.0, 25.0, 25.0, 25.0, 25.0, 25.0, 25.0, 25.0, 25.0, 25.0, 25.0, 25.0, 25.0, 25.0, 25.0, 25.0, 25.0, 25.0, 25.0, 25.0, 25.0, 25.0, 25.0, 25.0, 25.0, 25.0, 25.0, 25.0, 25.0, 25.0, 25.0, 25.0, 25.0, 25.0, 25.0, 25.0, 25.0, 25.0, 25.0, 25.0, 25.0, 25.0, 25.0, 25.0, 25.0, 25.0, 25.0, 25.0, 25.0, 25.0, 25.0, 25.0, 25.0, 25.0, 25.0, 25.0, 25.0, 25.0, 25.0, 25.0, 25.0, 25.0, 25.0, 25.0, 25.0, 25.0, 25.0, 25.0, 25.0, 25.0, 25.0, 25.0, 25.0, 25.0, 25.0, 25.0, 25.0, 25.0, 25.0, 25.0, 25.0, 25.0, 25.0, 25.0, 25.0, 25.0, 25.0, 25.0, 25.0, 25.0, 25.0, 25.0, 25.0, 25.0, 25.0, 25.0, 25.0, 25.0, 25.0, 25.0, 25.0, 25.0, 25.0, 25.0, 25.0, 25.0, 25.0, 25.0, 25.0, 25.0, 25.0, 25.0, 25.0, 25.0, 25.0, 25.0, 25.0, 25.0, 25.0, 25.0, 25.0, 25.0, 25.0, 25.0, 25.0, 25.0, 25.0, 25.0, 25.0, 26.0, 26.0, 26.0, 26.0, 26.0, 26.0, 26.0, 26.0, 26.0, 26.0, 26.0, 26.0, 26.0, 26.0, 26.0, 26.0, 26.0, 26.0, 26.0, 26.0, 26.0, 26.0, 26.0, 26.0, 26.0, 26.0, 26.0, 26.0, 26.0, 26.0, 26.0, 26.0, 26.0, 26.0, 26.0, 26.0, 26.0, 26.0, 26.0, 26.0, 26.0, 26.0, 26.0, 26.0, 26.0, 26.0, 26.0, 26.0, 26.0, 26.0, 26.0, 26.0, 26.0, 26.0, 26.0, 26.0, 26.0, 26.0, 26.0, 26.0, 26.0, 26.0, 26.0, 26.0, 26.0, 26.0, 26.0, 26.0, 26.0, 26.0, 26.0, 26.0, 26.0, 26.0, 26.0, 26.0, 26.0, 26.0, 26.0, 26.0, 26.0, 26.0, 26.0, 26.0, 26.0, 26.0, 26.0, 26.0, 26.0, 26.0, 26.0, 26.0, 26.0, 26.0, 26.0, 26.0, 26.0, 26.0, 26.0, 26.0, 26.0, 26.0, 26.0, 26.0, 26.0, 26.0, 26.0, 26.0, 26.0, 26.0, 26.0, 26.0, 26.0, 26.0, 26.0, 26.0, 26.0, 26.0, 26.0, 26.0, 26.0, 26.0, 26.0, 26.0, 26.0, 26.0, 26.0, 26.0, 26.0, 26.0, 26.0, 26.0, 26.0, 26.0, 26.0, 26.0, 26.0, 26.0, 26.0, 26.0, 26.0, 26.0, 26.0, 26.0, 26.0, 26.0, 26.0, 26.0, 26.0, 26.0, 26.0, 26.0, 26.0, 26.0, 26.0, 26.0, 26.0, 26.0, 26.0, 26.0, 26.0, 26.0, 26.0, 26.0, 26.0, 26.0, 26.0, 26.0, 26.0, 26.0, 26.0, 26.0, 26.0, 26.0, 26.0, 26.0, 26.0, 26.0, 26.0, 26.0, 26.0, 26.0, 26.0, 26.0, 26.0, 26.0, 26.0, 26.0, 26.0, 26.0, 26.0, 26.0, 26.0, 26.0, 26.0, 26.0, 26.0, 26.0, 26.0, 26.0, 26.0, 26.0, 26.0, 26.0, 26.0, 26.0, 27.0, 27.0, 27.0, 27.0, 27.0, 27.0, 27.0, 27.0, 27.0, 27.0, 27.0, 27.0, 27.0, 27.0, 27.0, 27.0, 27.0, 27.0, 27.0, 27.0, 27.0, 27.0, 27.0, 27.0, 27.0, 27.0, 27.0, 27.0, 27.0, 27.0, 27.0, 27.0, 27.0, 27.0, 27.0, 27.0, 27.0, 27.0, 27.0, 27.0, 27.0, 27.0, 27.0, 27.0, 27.0, 27.0, 27.0, 27.0, 27.0, 27.0, 27.0, 27.0, 27.0, 27.0, 27.0, 27.0, 27.0, 27.0, 27.0, 27.0, 27.0, 27.0, 27.0, 27.0, 27.0, 27.0, 27.0, 27.0, 27.0, 27.0, 27.0, 27.0, 27.0, 27.0, 27.0, 27.0, 27.0, 27.0, 27.0, 27.0, 27.0, 27.0, 27.0, 27.0, 27.0, 27.0, 27.0, 27.0, 27.0, 27.0, 27.0, 27.0, 27.0, 27.0, 27.0, 27.0, 27.0, 27.0, 27.0, 27.0, 27.0, 27.0, 27.0, 27.0, 27.0, 27.0, 27.0, 27.0, 27.0, 27.0, 27.0, 27.0, 27.0, 27.0, 27.0, 27.0, 27.0, 27.0, 27.0, 27.0, 27.0, 27.0, 27.0, 27.0, 27.0, 27.0, 27.0, 27.0, 27.0, 27.0, 27.0, 27.0, 27.0, 27.0, 27.0, 27.0, 27.0, 27.0, 27.0, 27.0, 27.0, 27.0, 27.0, 27.0, 27.0, 27.0, 27.0, 27.0, 27.0, 27.0, 27.0, 27.0, 27.0, 27.0, 27.0, 27.0, 27.0, 28.0, 28.0, 28.0, 28.0, 28.0, 28.0, 28.0, 28.0, 28.0, 28.0, 28.0, 28.0, 28.0, 28.0, 28.0, 28.0, 28.0, 28.0, 28.0, 28.0, 28.0, 28.0, 28.0, 28.0, 28.0, 28.0, 28.0, 28.0, 28.0, 28.0, 28.0, 28.0, 28.0, 28.0, 28.0, 28.0, 28.0, 28.0, 28.0, 28.0, 28.0, 28.0, 28.0, 28.0, 28.0, 28.0, 28.0, 28.0, 28.0, 28.0, 28.0, 28.0, 28.0, 28.0, 28.0, 28.0, 28.0, 28.0, 28.0, 28.0, 28.0, 28.0, 28.0, 28.0, 28.0, 28.0, 28.0, 28.0, 28.0, 28.0, 28.0, 28.0, 28.0, 28.0, 28.0, 28.0, 28.0, 28.0, 28.0, 28.0, 28.0, 28.0, 28.0, 28.0, 28.0, 28.0, 28.0, 28.0, 28.0, 28.0, 28.0, 28.0, 28.0, 28.0, 28.0, 28.0, 28.0, 28.0, 28.0, 28.0, 28.0, 28.0, 28.0, 28.0, 28.0, 28.0, 28.0, 28.0, 28.0, 28.0, 28.0, 28.0, 28.0, 28.0, 28.0, 28.0, 28.0, 28.0, 28.0, 28.0, 28.0, 28.0, 28.0, 28.0, 28.0, 28.0, 28.0, 28.0, 28.0, 28.0, 28.0, 28.0, 28.0, 28.0, 28.0, 28.0, 28.0, 28.0, 28.0, 28.0, 28.0, 28.0, 28.0, 28.0, 28.0, 28.0, 28.0, 28.0, 28.0, 28.0, 28.0, 28.0, 28.0, 28.0, 28.0, 28.0, 28.0, 28.0, 28.0, 28.0, 28.0, 28.0, 28.0, 28.0, 28.0, 28.0, 29.0, 29.0, 29.0, 29.0, 29.0, 29.0, 29.0, 29.0, 29.0, 29.0, 29.0, 29.0, 29.0, 29.0, 29.0, 29.0, 29.0, 29.0, 29.0, 29.0, 29.0, 29.0, 29.0, 29.0, 29.0, 29.0, 29.0, 29.0, 29.0, 29.0, 29.0, 29.0, 29.0, 29.0, 29.0, 29.0, 29.0, 29.0, 29.0, 29.0, 29.0, 29.0, 29.0, 29.0, 29.0, 29.0, 29.0, 29.0, 29.0, 29.0, 29.0, 29.0, 29.0, 29.0, 29.0, 29.0, 29.0, 29.0, 29.0, 29.0, 29.0, 29.0, 29.0, 29.0, 29.0, 29.0, 29.0, 29.0, 29.0, 29.0, 29.0, 29.0, 29.0, 29.0, 29.0, 29.0, 29.0, 29.0, 29.0, 29.0, 29.0, 29.0, 29.0, 29.0, 29.0, 29.0, 29.0, 29.0, 29.0, 29.0, 29.0, 29.0, 29.0, 29.0, 29.0, 29.0, 29.0, 29.0, 29.0, 29.0, 29.0, 29.0, 29.0, 29.0, 29.0, 29.0, 29.0, 29.0, 29.0, 29.0, 29.0, 29.0, 29.0, 29.0, 29.0, 29.0, 29.0, 29.0, 29.0, 29.0, 29.0, 29.0, 29.0, 29.0, 29.0, 29.0, 29.0, 29.0, 29.0, 29.0, 29.0, 29.0, 29.0, 29.0, 29.0, 29.0, 29.0, 29.0, 29.0, 29.0, 29.0, 29.0, 29.0, 29.0, 29.0, 29.0, 29.0, 29.0, 29.0, 29.0, 29.0, 29.0, 29.0, 29.0, 29.0, 29.0, 29.0, 29.0, 29.0, 29.0, 29.0, 29.0, 29.0, 29.0, 29.0, 29.0, 29.0, 29.0, 29.0, 29.0, 29.0, 29.0, 29.0, 29.0, 29.0, 29.0, 29.0, 29.0, 29.0, 29.0, 29.0, 29.0, 29.0, 29.0, 29.0, 29.0, 29.0, 29.0, 29.0, 29.0, 29.0, 29.0, 29.0, 29.0, 29.0, 29.0, 29.0, 29.0, 29.0, 29.0, 29.0, 29.0, 29.0, 29.0, 29.0, 29.0, 29.0, 29.0, 29.0, 29.0, 29.0, 29.0, 29.0, 29.0, 29.0, 29.0, 30.0, 30.0, 30.0, 30.0, 30.0, 30.0, 30.0, 30.0, 30.0, 30.0, 30.0, 30.0, 30.0, 30.0, 30.0, 30.0, 30.0, 30.0, 30.0, 30.0, 30.0, 30.0, 30.0, 30.0, 30.0, 30.0, 30.0, 30.0, 30.0, 30.0, 30.0, 30.0, 30.0, 30.0, 30.0, 30.0, 30.0, 30.0, 30.0, 30.0, 30.0, 30.0, 30.0, 30.0, 30.0, 30.0, 30.0, 30.0, 30.0, 30.0, 30.0, 30.0, 30.0, 30.0, 30.0, 30.0, 30.0, 30.0, 30.0, 30.0, 30.0, 30.0, 30.0, 30.0, 30.0, 30.0, 30.0, 30.0, 30.0, 30.0, 30.0, 30.0, 30.0, 30.0, 30.0, 30.0, 30.0, 30.0, 30.0, 30.0, 30.0, 30.0, 30.0, 30.0, 30.0, 30.0, 30.0, 30.0, 30.0, 30.0, 30.0, 30.0, 30.0, 30.0, 30.0, 30.0, 30.0, 30.0, 30.0, 30.0, 30.0, 30.0, 30.0, 30.0, 30.0, 30.0, 30.0, 30.0, 30.0, 30.0, 30.0, 30.0, 30.0, 30.0, 30.0, 30.0, 30.0, 30.0, 30.0, 30.0, 30.0, 30.0, 30.0, 30.0, 30.0, 30.0, 30.0, 30.0, 30.0, 30.0, 30.0, 30.0, 30.0, 30.0, 30.0, 30.0, 30.0, 30.0, 30.0, 30.0, 30.0, 30.0, 30.0, 30.0, 30.0, 30.0, 30.0, 30.0, 30.0, 31.0, 31.0, 31.0, 31.0, 31.0, 31.0, 31.0, 31.0, 31.0, 31.0, 31.0, 31.0, 31.0, 31.0, 31.0, 31.0, 31.0, 31.0, 31.0, 31.0, 31.0, 31.0, 31.0, 31.0, 31.0, 31.0, 31.0, 31.0, 31.0, 31.0, 31.0, 31.0, 31.0, 31.0, 31.0, 31.0, 31.0, 31.0, 31.0, 31.0, 31.0, 31.0, 31.0, 31.0, 31.0, 31.0, 31.0, 31.0, 31.0, 31.0, 31.0, 31.0, 31.0, 31.0, 31.0, 31.0, 31.0, 31.0, 31.0, 31.0, 31.0, 31.0, 31.0, 31.0, 31.0, 31.0, 31.0, 31.0, 31.0, 31.0, 31.0, 31.0, 31.0, 31.0, 31.0, 31.0, 31.0, 31.0, 31.0, 31.0, 31.0, 31.0, 31.0, 31.0, 31.0, 31.0, 31.0, 31.0, 31.0, 31.0, 31.0, 31.0, 31.0, 31.0, 31.0, 31.0, 31.0, 31.0, 31.0, 31.0, 31.0, 31.0, 31.0, 31.0, 31.0, 31.0, 31.0, 31.0, 31.0, 31.0, 31.0, 31.0, 31.0, 31.0, 31.0, 31.0, 31.0, 31.0, 31.0, 31.0, 31.0, 31.0, 31.0, 31.0, 31.0, 31.0, 31.0, 31.0, 31.0, 31.0, 31.0, 31.0, 31.0, 31.0, 31.0, 31.0, 31.0, 31.0, 31.0, 31.0, 31.0, 32.0, 32.0, 32.0, 32.0, 32.0, 32.0, 32.0, 32.0, 32.0, 32.0, 32.0, 32.0, 32.0, 32.0, 32.0, 32.0, 32.0, 32.0, 32.0, 32.0, 32.0, 32.0, 32.0, 32.0, 32.0, 32.0, 32.0, 32.0, 32.0, 32.0, 32.0, 32.0, 32.0, 32.0, 32.0, 32.0, 32.0, 32.0, 32.0, 32.0, 32.0, 32.0, 32.0, 32.0, 32.0, 32.0, 32.0, 32.0, 32.0, 32.0, 32.0, 32.0, 32.0, 32.0, 32.0, 32.0, 32.0, 32.0, 32.0, 32.0, 32.0, 32.0, 32.0, 32.0, 32.0, 32.0, 32.0, 32.0, 32.0, 32.0, 32.0, 32.0, 32.0, 32.0, 32.0, 32.0, 32.0, 32.0, 32.0, 32.0, 32.0, 32.0, 32.0, 32.0, 32.0, 32.0, 32.0, 32.0, 32.0, 32.0, 32.0, 32.0, 32.0, 32.0, 32.0, 32.0, 32.0, 32.0, 32.0, 32.0, 32.0, 32.0, 32.0, 32.0, 32.0, 32.0, 32.0, 32.0, 32.0, 32.0, 32.0, 32.0, 32.0, 32.0, 32.0, 32.0, 32.0, 32.0, 32.0, 32.0, 32.0, 32.0, 32.0, 32.0, 33.0, 33.0, 33.0, 33.0, 33.0, 33.0, 33.0, 33.0, 33.0, 33.0, 33.0, 33.0, 33.0, 33.0, 33.0, 33.0, 33.0, 33.0, 33.0, 33.0, 33.0, 33.0, 33.0, 33.0, 33.0, 33.0, 33.0, 33.0, 33.0, 33.0, 33.0, 33.0, 33.0, 33.0, 33.0, 33.0, 33.0, 33.0, 33.0, 33.0, 33.0, 33.0, 33.0, 33.0, 33.0, 33.0, 33.0, 33.0, 33.0, 33.0, 33.0, 33.0, 33.0, 33.0, 33.0, 33.0, 33.0, 33.0, 33.0, 33.0, 33.0, 33.0, 33.0, 33.0, 33.0, 33.0, 33.0, 33.0, 33.0, 33.0, 33.0, 33.0, 33.0, 33.0, 33.0, 33.0, 33.0, 33.0, 33.0, 33.0, 33.0, 33.0, 33.0, 33.0, 33.0, 33.0, 33.0, 33.0, 33.0, 33.0, 33.0, 33.0, 33.0, 33.0, 33.0, 33.0, 33.0, 33.0, 33.0, 33.0, 33.0, 33.0, 33.0, 33.0, 33.0, 33.0, 34.0, 34.0, 34.0, 34.0, 34.0, 34.0, 34.0, 34.0, 34.0, 34.0, 34.0, 34.0, 34.0, 34.0, 34.0, 34.0, 34.0, 34.0, 34.0, 34.0, 34.0, 34.0, 34.0, 34.0, 34.0, 34.0, 34.0, 34.0, 34.0, 34.0, 34.0, 34.0, 34.0, 34.0, 34.0, 34.0, 34.0, 34.0, 34.0, 34.0, 34.0, 34.0, 34.0, 34.0, 34.0, 34.0, 34.0, 34.0, 34.0, 34.0, 34.0, 34.0, 34.0, 34.0, 34.0, 34.0, 34.0, 34.0, 34.0, 34.0, 34.0, 34.0, 34.0, 34.0, 34.0, 34.0, 34.0, 34.0, 34.0, 34.0, 34.0, 34.0, 34.0, 34.0, 34.0, 34.0, 34.0, 34.0, 34.0, 34.0, 34.0, 34.0, 34.0, 34.0, 34.0, 34.0, 34.0, 34.0, 34.0, 34.0, 34.0, 34.0, 34.0, 34.0, 34.0, 34.0, 34.0, 34.0, 34.0, 34.0, 34.0, 34.0, 34.0, 34.0, 34.0, 34.0, 34.0, 34.0, 34.0, 34.0, 34.0, 34.0, 34.0, 35.0, 35.0, 35.0, 35.0, 35.0, 35.0, 35.0, 35.0, 35.0, 35.0, 35.0, 35.0, 35.0, 35.0, 35.0, 35.0, 35.0, 35.0, 35.0, 35.0, 35.0, 35.0, 35.0, 35.0, 35.0, 35.0, 35.0, 35.0, 35.0, 35.0, 35.0, 35.0, 35.0, 35.0, 35.0, 35.0, 35.0, 35.0, 35.0, 35.0, 35.0, 35.0, 35.0, 35.0, 35.0, 35.0, 35.0, 35.0, 35.0, 35.0, 35.0, 35.0, 35.0, 35.0, 35.0, 35.0, 35.0, 35.0, 35.0, 35.0, 35.0, 35.0, 35.0, 35.0, 35.0, 35.0, 35.0, 35.0, 35.0, 35.0, 35.0, 35.0, 35.0, 35.0, 35.0, 35.0, 35.0, 35.0, 35.0, 35.0, 35.0, 35.0, 35.0, 35.0, 35.0, 35.0, 35.0, 35.0, 35.0, 35.0, 35.0, 35.0, 35.0, 35.0, 35.0, 35.0, 35.0, 35.0, 35.0, 35.0, 35.0, 35.0, 35.0, 35.0, 35.0, 35.0, 35.0, 35.0, 35.0, 35.0, 35.0, 36.0, 36.0, 36.0, 36.0, 36.0, 36.0, 36.0, 36.0, 36.0, 36.0, 36.0, 36.0, 36.0, 36.0, 36.0, 36.0, 36.0, 36.0, 36.0, 36.0, 36.0, 36.0, 36.0, 36.0, 36.0, 36.0, 36.0, 36.0, 36.0, 36.0, 36.0, 36.0, 36.0, 36.0, 36.0, 36.0, 36.0, 36.0, 36.0, 36.0, 36.0, 36.0, 36.0, 36.0, 36.0, 36.0, 36.0, 36.0, 36.0, 36.0, 36.0, 36.0, 36.0, 36.0, 36.0, 36.0, 36.0, 36.0, 36.0, 36.0, 36.0, 36.0, 36.0, 36.0, 36.0, 36.0, 36.0, 36.0, 36.0, 36.0, 36.0, 36.0, 36.0, 36.0, 36.0, 36.0, 36.0, 36.0, 36.0, 36.0, 36.0, 36.0, 36.0, 36.0, 36.0, 36.0, 36.0, 36.0, 37.0, 37.0, 37.0, 37.0, 37.0, 37.0, 37.0, 37.0, 37.0, 37.0, 37.0, 37.0, 37.0, 37.0, 37.0, 37.0, 37.0, 37.0, 37.0, 37.0, 37.0, 37.0, 37.0, 37.0, 37.0, 37.0, 37.0, 37.0, 37.0, 37.0, 37.0, 37.0, 37.0, 37.0, 37.0, 37.0, 37.0, 37.0, 37.0, 37.0, 37.0, 37.0, 37.0, 37.0, 37.0, 37.0, 37.0, 37.0, 37.0, 37.0, 37.0, 37.0, 37.0, 37.0, 37.0, 37.0, 37.0, 37.0, 37.0, 37.0, 37.0, 37.0, 37.0, 37.0, 37.0, 37.0, 37.0, 37.0, 37.0, 37.0, 37.0, 38.0, 38.0, 38.0, 38.0, 38.0, 38.0, 38.0, 38.0, 38.0, 38.0, 38.0, 38.0, 38.0, 38.0, 38.0, 38.0, 38.0, 38.0, 38.0, 38.0, 38.0, 38.0, 38.0, 38.0, 38.0, 38.0, 38.0, 38.0, 38.0, 38.0, 38.0, 38.0, 38.0, 38.0, 38.0, 38.0, 38.0, 38.0, 38.0, 38.0, 38.0, 38.0, 38.0, 38.0, 38.0, 38.0, 38.0, 38.0, 38.0, 38.0, 38.0, 38.0, 38.0, 38.0, 38.0, 38.0, 38.0, 38.0, 38.0, 38.0, 38.0, 38.0, 38.0, 38.0, 38.0, 38.0, 38.0, 38.0, 38.0, 38.0, 38.0, 38.0, 38.0, 38.0, 38.0, 38.0, 38.0, 38.0, 38.0, 38.0, 38.0, 39.0, 39.0, 39.0, 39.0, 39.0, 39.0, 39.0, 39.0, 39.0, 39.0, 39.0, 39.0, 39.0, 39.0, 39.0, 39.0, 39.0, 39.0, 39.0, 39.0, 39.0, 39.0, 39.0, 39.0, 39.0, 39.0, 39.0, 39.0, 39.0, 39.0, 39.0, 39.0, 39.0, 39.0, 39.0, 39.0, 39.0, 39.0, 39.0, 39.0, 39.0, 39.0, 39.0, 39.0, 39.0, 39.0, 39.0, 39.0, 39.0, 39.0, 39.0, 39.0, 39.0, 39.0, 39.0, 39.0, 39.0, 39.0, 39.0, 39.0, 39.0, 39.0, 39.0, 39.0, 39.0, 39.0, 39.0, 39.0, 39.0, 39.0, 39.0, 39.0, 39.0, 39.0, 39.0, 39.0, 39.0, 39.0, 40.0, 40.0, 40.0, 40.0, 40.0, 40.0, 40.0, 40.0, 40.0, 40.0, 40.0, 40.0, 40.0, 40.0, 40.0, 40.0, 40.0, 40.0, 40.0, 40.0, 40.0, 40.0, 40.0, 40.0, 40.0, 40.0, 40.0, 40.0, 40.0, 40.0, 40.0, 40.0, 40.0, 40.0, 40.0, 40.0, 40.0, 40.0, 40.0, 40.0, 40.0, 40.0, 40.0, 40.0, 40.0, 40.0, 40.0, 40.0, 40.0, 40.0, 40.0, 40.0, 40.0, 40.0, 40.0, 40.0, 40.0, 40.0, 40.0, 40.0, 40.0, 40.0, 40.0, 40.0, 40.0, 40.0, 40.0, 40.0, 40.0, 40.0, 40.0, 41.0, 41.0, 41.0, 41.0, 41.0, 41.0, 41.0, 41.0, 41.0, 41.0, 41.0, 41.0, 41.0, 41.0, 41.0, 41.0, 41.0, 41.0, 41.0, 41.0, 41.0, 41.0, 41.0, 41.0, 41.0, 41.0, 41.0, 41.0, 41.0, 41.0, 41.0, 41.0, 41.0, 41.0, 41.0, 41.0, 41.0, 41.0, 41.0, 41.0, 41.0, 41.0, 41.0, 41.0, 41.0, 41.0, 41.0, 41.0, 41.0, 41.0, 41.0, 41.0, 41.0, 41.0, 41.0, 41.0, 41.0, 42.0, 42.0, 42.0, 42.0, 42.0, 42.0, 42.0, 42.0, 42.0, 42.0, 42.0, 42.0, 42.0, 42.0, 42.0, 42.0, 42.0, 42.0, 42.0, 42.0, 42.0, 42.0, 42.0, 42.0, 42.0, 42.0, 42.0, 42.0, 42.0, 42.0, 42.0, 42.0, 42.0, 42.0, 42.0, 42.0, 42.0, 42.0, 42.0, 42.0, 42.0, 42.0, 42.0, 42.0, 42.0, 42.0, 42.0, 42.0, 42.0, 42.0, 42.0, 42.0, 43.0, 43.0, 43.0, 43.0, 43.0, 43.0, 43.0, 43.0, 43.0, 43.0, 43.0, 43.0, 43.0, 43.0, 43.0, 43.0, 43.0, 43.0, 43.0, 43.0, 43.0, 43.0, 43.0, 43.0, 43.0, 43.0, 43.0, 43.0, 43.0, 43.0, 43.0, 43.0, 43.0, 43.0, 43.0, 43.0, 43.0, 43.0, 43.0, 43.0, 43.0, 43.0, 43.0, 43.0, 43.0, 43.0, 43.0, 43.0, 43.0, 43.0, 43.0, 43.0, 43.0, 43.0, 43.0, 43.0, 43.0, 43.0, 43.0, 43.0, 43.0, 43.0, 44.0, 44.0, 44.0, 44.0, 44.0, 44.0, 44.0, 44.0, 44.0, 44.0, 44.0, 44.0, 44.0, 44.0, 44.0, 44.0, 44.0, 44.0, 44.0, 44.0, 44.0, 44.0, 44.0, 44.0, 44.0, 44.0, 44.0, 44.0, 44.0, 44.0, 44.0, 44.0, 44.0, 44.0, 44.0, 44.0, 44.0, 44.0, 44.0, 44.0, 44.0, 44.0, 44.0, 44.0, 44.0, 44.0, 44.0, 44.0, 44.0, 44.0, 44.0, 45.0, 45.0, 45.0, 45.0, 45.0, 45.0, 45.0, 45.0, 45.0, 45.0, 45.0, 45.0, 45.0, 45.0, 45.0, 45.0, 45.0, 45.0, 45.0, 45.0, 45.0, 45.0, 45.0, 45.0, 45.0, 45.0, 45.0, 45.0, 45.0, 45.0, 45.0, 45.0, 45.0, 45.0, 45.0, 45.0, 45.0, 45.0, 45.0, 45.0, 45.0, 45.0, 45.0, 45.0, 45.0, 45.0, 46.0, 46.0, 46.0, 46.0, 46.0, 46.0, 46.0, 46.0, 46.0, 46.0, 46.0, 46.0, 46.0, 46.0, 46.0, 46.0, 46.0, 46.0, 46.0, 46.0, 46.0, 46.0, 46.0, 46.0, 46.0, 46.0, 46.0, 46.0, 46.0, 46.0, 46.0, 46.0, 46.0, 46.0, 46.0, 46.0, 46.0, 46.0, 46.0, 46.0, 46.0, 46.0, 46.0, 46.0, 46.0, 46.0, 46.0, 46.0, 46.0, 46.0, 46.0, 47.0, 47.0, 47.0, 47.0, 47.0, 47.0, 47.0, 47.0, 47.0, 47.0, 47.0, 47.0, 47.0, 47.0, 47.0, 47.0, 47.0, 47.0, 47.0, 47.0, 47.0, 47.0, 47.0, 47.0, 47.0, 47.0, 47.0, 47.0, 47.0, 47.0, 47.0, 47.0, 47.0, 47.0, 47.0, 47.0, 47.0, 47.0, 47.0, 47.0, 47.0, 48.0, 48.0, 48.0, 48.0, 48.0, 48.0, 48.0, 48.0, 48.0, 48.0, 48.0, 48.0, 48.0, 48.0, 48.0, 48.0, 48.0, 48.0, 48.0, 48.0, 48.0, 48.0, 48.0, 48.0, 48.0, 48.0, 48.0, 48.0, 48.0, 48.0, 48.0, 48.0, 48.0, 48.0, 48.0, 48.0, 48.0, 48.0, 48.0, 48.0, 48.0, 48.0, 48.0, 48.0, 48.0, 49.0, 49.0, 49.0, 49.0, 49.0, 49.0, 49.0, 49.0, 49.0, 49.0, 49.0, 49.0, 49.0, 49.0, 49.0, 49.0, 49.0, 49.0, 49.0, 49.0, 49.0, 49.0, 49.0, 49.0, 49.0, 49.0, 49.0, 49.0, 49.0, 49.0, 49.0, 49.0, 49.0, 49.0, 49.0, 49.0, 49.0, 49.0, 49.0, 50.0, 50.0, 50.0, 50.0, 50.0, 50.0, 50.0, 50.0, 50.0, 50.0, 50.0, 50.0, 50.0, 50.0, 50.0, 50.0, 50.0, 50.0, 50.0, 50.0, 50.0, 50.0, 50.0, 50.0, 50.0, 50.0, 50.0, 51.0, 51.0, 51.0, 51.0, 51.0, 51.0, 51.0, 51.0, 51.0, 51.0, 51.0, 51.0, 51.0, 51.0, 51.0, 51.0, 51.0, 51.0, 51.0, 51.0, 51.0, 51.0, 51.0, 51.0, 51.0, 51.0, 51.0, 51.0, 51.0, 51.0, 51.0, 51.0, 51.0, 51.0, 51.0, 51.0, 51.0, 51.0, 51.0, 51.0, 52.0, 52.0, 52.0, 52.0, 52.0, 52.0, 52.0, 52.0, 52.0, 52.0, 52.0, 52.0, 52.0, 52.0, 52.0, 52.0, 52.0, 52.0, 52.0, 52.0, 52.0, 52.0, 52.0, 52.0, 52.0, 52.0, 52.0, 52.0, 52.0, 52.0, 52.0, 52.0, 52.0, 53.0, 53.0, 53.0, 53.0, 53.0, 53.0, 53.0, 53.0, 53.0, 53.0, 53.0, 53.0, 53.0, 53.0, 53.0, 53.0, 53.0, 53.0, 53.0, 53.0, 53.0, 53.0, 53.0, 53.0, 53.0, 53.0, 53.0, 53.0, 54.0, 54.0, 54.0, 54.0, 54.0, 54.0, 54.0, 54.0, 54.0, 54.0, 54.0, 54.0, 54.0, 54.0, 54.0, 54.0, 54.0, 54.0, 54.0, 54.0, 54.0, 54.0, 54.0, 54.0, 54.0, 55.0, 55.0, 55.0, 55.0, 55.0, 55.0, 55.0, 55.0, 55.0, 55.0, 55.0, 55.0, 55.0, 55.0, 55.0, 55.0, 55.0, 55.0, 55.0, 55.0, 56.0, 56.0, 56.0, 56.0, 56.0, 56.0, 56.0, 56.0, 56.0, 56.0, 56.0, 56.0, 56.0, 56.0, 56.0, 56.0, 56.0, 57.0, 57.0, 57.0, 57.0, 57.0, 57.0, 57.0, 57.0, 57.0, 57.0, 57.0, 57.0, 57.0, 57.0, 57.0, 57.0, 57.0, 57.0, 57.0, 57.0, 58.0, 58.0, 58.0, 58.0, 58.0, 58.0, 58.0, 58.0, 58.0, 58.0, 58.0, 58.0, 58.0, 58.0, 58.0, 58.0, 58.0, 59.0, 59.0, 59.0, 59.0, 59.0, 59.0, 59.0, 59.0, 59.0, 59.0, 59.0, 59.0, 59.0, 59.0, 59.0, 59.0, 59.0, 59.0, 59.0, 59.0, 60.0, 60.0, 60.0, 60.0, 60.0, 60.0, 60.0, 60.0, 60.0, 60.0, 60.0, 60.0, 60.0, 60.0, 60.0, 60.0, 61.0, 61.0, 61.0, 61.0, 61.0, 61.0, 61.0, 61.0, 61.0, 62.0, 62.0, 62.0, 62.0, 62.0, 62.0, 62.0, 62.0, 62.0, 62.0, 62.0, 62.0, 62.0, 63.0, 63.0, 63.0, 63.0, 63.0, 64.0, 64.0, 64.0, 64.0, 64.0, 64.0, 64.0, 64.0, 64.0, 65.0, 65.0, 65.0, 65.0, 66.0, 66.0, 66.0, 66.0, 66.0, 66.0, 66.0, 66.0, 67.0, 67.0, 67.0, 67.0, 67.0, 67.0, 67.0, 68.0, 68.0, 68.0, 68.0, 68.0, 68.0, 68.0, 68.0, 68.0, 68.0, 69.0, 69.0, 69.0, 69.0, 69.0, 69.0, 69.0, 70.0, 70.0, 70.0, 70.0, 71.0, 71.0, 72.0, 72.0, 72.0, 73.0, 73.0, 73.0, 73.0, 73.0, 73.0, 74.0, 74.0, 74.0, 75.0, 76.0, 77.0, 78.0, 78.0, 79.0, 79.0, 80.0, 81.0, 83.0, 83.0, 83.0, 83.0, 84.0, 84.0, 84.0, 84.0, 85.0, 86.0, 90.0, 91.0, 97.0] \n",
            "\n",
            "Bins Border -  0 :  0.0  -  1.94 \t  Frequency :  47\n",
            "Bins Border -  1 :  1.94  -  3.88 \t  Frequency :  18\n",
            "Bins Border -  2 :  3.88  -  5.82 \t  Frequency :  7\n",
            "Bins Border -  3 :  5.82  -  7.76 \t  Frequency :  5\n",
            "Bins Border -  4 :  7.76  -  9.7 \t  Frequency :  1\n",
            "Bins Border -  5 :  9.7  -  11.64 \t  Frequency :  2\n",
            "Bins Border -  6 :  11.64  -  13.58 \t  Frequency :  6\n",
            "Bins Border -  7 :  13.58  -  15.52 \t  Frequency :  36\n",
            "Bins Border -  8 :  15.52  -  17.46 \t  Frequency :  136\n",
            "Bins Border -  9 :  17.46  -  19.4 \t  Frequency :  257\n",
            "Bins Border -  10 :  19.4  -  21.34 \t  Frequency :  344\n",
            "Bins Border -  11 :  21.34  -  23.28 \t  Frequency :  349\n",
            "Bins Border -  12 :  23.28  -  25.22 \t  Frequency :  386\n",
            "Bins Border -  13 :  25.22  -  27.16 \t  Frequency :  363\n",
            "Bins Border -  14 :  27.16  -  29.099999999999998 \t  Frequency :  382\n",
            "Bins Border -  15 :  29.099999999999998  -  31.04 \t  Frequency :  290\n",
            "Bins Border -  16 :  31.04  -  32.98 \t  Frequency :  124\n",
            "Bins Border -  17 :  32.98  -  34.92 \t  Frequency :  219\n",
            "Bins Border -  18 :  34.92  -  36.86 \t  Frequency :  199\n",
            "Bins Border -  19 :  36.86  -  38.8 \t  Frequency :  152\n",
            "Bins Border -  20 :  38.8  -  40.74 \t  Frequency :  149\n",
            "Bins Border -  21 :  40.74  -  42.68 \t  Frequency :  109\n",
            "Bins Border -  22 :  42.68  -  44.62 \t  Frequency :  113\n",
            "Bins Border -  23 :  44.62  -  46.56 \t  Frequency :  97\n",
            "Bins Border -  24 :  46.56  -  48.5 \t  Frequency :  86\n",
            "Bins Border -  25 :  48.5  -  50.44 \t  Frequency :  66\n",
            "Bins Border -  26 :  50.44  -  52.379999999999995 \t  Frequency :  73\n",
            "Bins Border -  27 :  52.379999999999995  -  54.32 \t  Frequency :  53\n",
            "Bins Border -  28 :  54.32  -  56.26 \t  Frequency :  37\n",
            "Bins Border -  29 :  56.26  -  58.199999999999996 \t  Frequency :  37\n",
            "Bins Border -  30 :  58.199999999999996  -  60.14 \t  Frequency :  36\n",
            "Bins Border -  31 :  60.14  -  62.08 \t  Frequency :  22\n",
            "Bins Border -  32 :  62.08  -  64.02 \t  Frequency :  14\n",
            "Bins Border -  33 :  64.02  -  65.96 \t  Frequency :  4\n",
            "Bins Border -  34 :  65.96  -  67.89999999999999 \t  Frequency :  15\n",
            "Bins Border -  35 :  67.89999999999999  -  69.84 \t  Frequency :  17\n",
            "Bins Border -  36 :  69.84  -  71.78 \t  Frequency :  6\n",
            "Bins Border -  37 :  71.78  -  73.72 \t  Frequency :  9\n",
            "Bins Border -  38 :  73.72  -  75.66 \t  Frequency :  4\n",
            "Bins Border -  39 :  75.66  -  77.6 \t  Frequency :  2\n",
            "Bins Border -  40 :  77.6  -  79.53999999999999 \t  Frequency :  4\n",
            "Bins Border -  41 :  79.53999999999999  -  81.48 \t  Frequency :  2\n",
            "Bins Border -  42 :  81.48  -  83.42 \t  Frequency :  4\n",
            "Bins Border -  43 :  83.42  -  85.36 \t  Frequency :  5\n",
            "Bins Border -  44 :  85.36  -  87.3 \t  Frequency :  1\n",
            "Bins Border -  45 :  87.3  -  89.24 \t  Frequency :  0\n",
            "Bins Border -  46 :  89.24  -  91.17999999999999 \t  Frequency :  2\n",
            "Bins Border -  47 :  91.17999999999999  -  93.12 \t  Frequency :  0\n",
            "Bins Border -  48 :  93.12  -  95.06 \t  Frequency :  0\n",
            "Bins Border -  49 :  95.06  -  97.0 \t  Frequency :  1\n"
          ]
        }
      ],
      "source": [
        "print('Sorted Age : ', sorted(list(df2['age'])), '\\n')\n",
        "\n",
        "n, bins = np.histogram(df2['age'], bins=50)\n",
        "for ii in range(0, len(n)):\n",
        "  print('Bins Border - ' , ii, ': ', bins[ii], ' - ', bins[ii+1], '\\t', ' Frequency : ', n[ii])"
      ]
    },
    {
      "cell_type": "code",
      "execution_count": 27,
      "metadata": {
        "colab": {
          "base_uri": "https://localhost:8080/",
          "height": 481
        },
        "id": "8gQwOM00yEjC",
        "outputId": "9427ffd8-f3dd-40ed-e29a-da3a83eb513a"
      },
      "outputs": [
        {
          "data": {
            "text/plain": [
              "(array([ 47.,  18.,   7.,   5.,   1.,   2.,   6.,  36., 136., 257., 344.,\n",
              "        349., 386., 363., 382., 290., 124., 219., 199., 152., 149., 109.,\n",
              "        113.,  97.,  86.,  66.,  73.,  53.,  37.,  37.,  36.,  22.,  14.,\n",
              "          4.,  15.,  17.,   6.,   9.,   4.,   2.,   4.,   2.,   4.,   5.,\n",
              "          1.,   0.,   2.,   0.,   0.,   1.]),\n",
              " array([ 0.  ,  1.94,  3.88,  5.82,  7.76,  9.7 , 11.64, 13.58, 15.52,\n",
              "        17.46, 19.4 , 21.34, 23.28, 25.22, 27.16, 29.1 , 31.04, 32.98,\n",
              "        34.92, 36.86, 38.8 , 40.74, 42.68, 44.62, 46.56, 48.5 , 50.44,\n",
              "        52.38, 54.32, 56.26, 58.2 , 60.14, 62.08, 64.02, 65.96, 67.9 ,\n",
              "        69.84, 71.78, 73.72, 75.66, 77.6 , 79.54, 81.48, 83.42, 85.36,\n",
              "        87.3 , 89.24, 91.18, 93.12, 95.06, 97.  ]),\n",
              " <BarContainer object of 50 artists>)"
            ]
          },
          "execution_count": 27,
          "metadata": {},
          "output_type": "execute_result"
        },
        {
          "data": {
            "image/png": "[encoded data removed]",
            "text/plain": [
              "<Figure size 432x288 with 1 Axes>"
            ]
          },
          "metadata": {
            "needs_background": "light"
          },
          "output_type": "display_data"
        }
      ],
      "source": [
        "plt.hist(df2['age'],bins=50)"
      ]
    },
    {
      "cell_type": "markdown",
      "metadata": {
        "id": "RINYVMyDA2WD"
      },
      "source": [
        "It is known that the minimum age is 0. This is either because the data input is wrong or the victim is actually an infant/a newborn. The oldest victim that's been killed is 97 years old. \n",
        "\n",
        "\n",
        "There are also a large number of people killed at the age of 29. However, this might be because it's affected by the missing value that's replaced by the median (43 entries). This makes the more accurate mode to be 24, meaning that a large number of the people killed are aged 24 years old. \n",
        "\n",
        "The data has a mean of 31. This is affected with the data that is moderately skewed to the right since there are also elderly people who got killed even though the majority of the cases are in their 20s. "
      ]
    },
    {
      "cell_type": "markdown",
      "metadata": {
        "id": "f5QdS0ObyGN5"
      },
      "source": [
        "From the analysis above, it can be inferred that most of the victims are black males aged 19-29"
      ]
    },
    {
      "cell_type": "markdown",
      "metadata": {
        "id": "lSC7iNYmyv2R"
      },
      "source": [
        "**Does the victims on all parts of Baltimore have similar attributes?**"
      ]
    },
    {
      "cell_type": "markdown",
      "metadata": {
        "id": "-h2Rcl2Qy5kB"
      },
      "source": [
        "Gender Comparison Between Top 3 District With Most Homicides"
      ]
    },
    {
      "cell_type": "code",
      "execution_count": 28,
      "metadata": {
        "colab": {
          "base_uri": "https://localhost:8080/",
          "height": 641
        },
        "id": "ZiLc_qi4y8oZ",
        "outputId": "bb71b6b4-7f5a-401b-f6cf-10ac68f13a2e"
      },
      "outputs": [
        {
          "data": {
            "text/html": [
              "<div>\n",
              "<style scoped>\n",
              "    .dataframe tbody tr th:only-of-type {\n",
              "        vertical-align: middle;\n",
              "    }\n",
              "\n",
              "    .dataframe tbody tr th {\n",
              "        vertical-align: top;\n",
              "    }\n",
              "\n",
              "    .dataframe thead th {\n",
              "        text-align: right;\n",
              "    }\n",
              "</style>\n",
              "<table border=\"1\" class=\"dataframe\">\n",
              "  <thead>\n",
              "    <tr style=\"text-align: right;\">\n",
              "      <th></th>\n",
              "      <th>id</th>\n",
              "      <th>first_name</th>\n",
              "      <th>last_name</th>\n",
              "      <th>age</th>\n",
              "      <th>gender</th>\n",
              "      <th>race</th>\n",
              "      <th>cause</th>\n",
              "      <th>death_loc</th>\n",
              "      <th>district</th>\n",
              "      <th>street_address</th>\n",
              "      <th>zip_code</th>\n",
              "      <th>latitude</th>\n",
              "      <th>longitude</th>\n",
              "      <th>date</th>\n",
              "      <th>time</th>\n",
              "      <th>notes</th>\n",
              "    </tr>\n",
              "  </thead>\n",
              "  <tbody>\n",
              "    <tr>\n",
              "      <th>5</th>\n",
              "      <td>3498</td>\n",
              "      <td>Name not yet released</td>\n",
              "      <td>unknown</td>\n",
              "      <td>24.0</td>\n",
              "      <td>male</td>\n",
              "      <td>unknown</td>\n",
              "      <td>shooting</td>\n",
              "      <td>shock-trauma</td>\n",
              "      <td>WD</td>\n",
              "      <td>1100 Mosher St</td>\n",
              "      <td>21217</td>\n",
              "      <td>39.300124</td>\n",
              "      <td>-76.639528</td>\n",
              "      <td>2019-08-07</td>\n",
              "      <td>2022-11-01 21:10:00</td>\n",
              "      <td>No Notes</td>\n",
              "    </tr>\n",
              "    <tr>\n",
              "      <th>9</th>\n",
              "      <td>3550</td>\n",
              "      <td>unknown</td>\n",
              "      <td>unknown</td>\n",
              "      <td>49.0</td>\n",
              "      <td>male</td>\n",
              "      <td>unknown</td>\n",
              "      <td>shooting</td>\n",
              "      <td>scene</td>\n",
              "      <td>ED</td>\n",
              "      <td>1500 Barclay St</td>\n",
              "      <td>21202</td>\n",
              "      <td>39.307350</td>\n",
              "      <td>-76.611080</td>\n",
              "      <td>2019-10-04</td>\n",
              "      <td>2022-11-01 22:12:00</td>\n",
              "      <td>No Notes</td>\n",
              "    </tr>\n",
              "    <tr>\n",
              "      <th>13</th>\n",
              "      <td>3694</td>\n",
              "      <td>Richard</td>\n",
              "      <td>Diggs</td>\n",
              "      <td>76.0</td>\n",
              "      <td>male</td>\n",
              "      <td>unknown</td>\n",
              "      <td>stabbing</td>\n",
              "      <td>scene</td>\n",
              "      <td>WD</td>\n",
              "      <td>2200 Walbrook Ave</td>\n",
              "      <td>21216</td>\n",
              "      <td>39.310940</td>\n",
              "      <td>-76.652920</td>\n",
              "      <td>2020-02-25</td>\n",
              "      <td>2022-11-01 17:05:00</td>\n",
              "      <td>No Notes</td>\n",
              "    </tr>\n",
              "    <tr>\n",
              "      <th>16</th>\n",
              "      <td>3732</td>\n",
              "      <td>unknown</td>\n",
              "      <td>unknown</td>\n",
              "      <td>23.0</td>\n",
              "      <td>male</td>\n",
              "      <td>unknown</td>\n",
              "      <td>shooting</td>\n",
              "      <td>scene</td>\n",
              "      <td>WD</td>\n",
              "      <td>2300 Evergreen St</td>\n",
              "      <td>21216</td>\n",
              "      <td>39.314064</td>\n",
              "      <td>-76.660662</td>\n",
              "      <td>2020-04-19</td>\n",
              "      <td>2022-11-01 00:16:00</td>\n",
              "      <td>No Notes</td>\n",
              "    </tr>\n",
              "    <tr>\n",
              "      <th>18</th>\n",
              "      <td>3896</td>\n",
              "      <td>unknown</td>\n",
              "      <td>unknown</td>\n",
              "      <td>19.0</td>\n",
              "      <td>male</td>\n",
              "      <td>unknown</td>\n",
              "      <td>shooting</td>\n",
              "      <td>scene</td>\n",
              "      <td>WD</td>\n",
              "      <td>2300 Presbury St</td>\n",
              "      <td>21216</td>\n",
              "      <td>39.307635</td>\n",
              "      <td>-76.654153</td>\n",
              "      <td>2020-09-25</td>\n",
              "      <td>2022-11-01 10:51:00</td>\n",
              "      <td>&lt;p&gt;Double fatal&lt;/p&gt;</td>\n",
              "    </tr>\n",
              "    <tr>\n",
              "      <th>...</th>\n",
              "      <td>...</td>\n",
              "      <td>...</td>\n",
              "      <td>...</td>\n",
              "      <td>...</td>\n",
              "      <td>...</td>\n",
              "      <td>...</td>\n",
              "      <td>...</td>\n",
              "      <td>...</td>\n",
              "      <td>...</td>\n",
              "      <td>...</td>\n",
              "      <td>...</td>\n",
              "      <td>...</td>\n",
              "      <td>...</td>\n",
              "      <td>...</td>\n",
              "      <td>...</td>\n",
              "      <td>...</td>\n",
              "    </tr>\n",
              "    <tr>\n",
              "      <th>4277</th>\n",
              "      <td>16</td>\n",
              "      <td>William</td>\n",
              "      <td>Davis</td>\n",
              "      <td>26.0</td>\n",
              "      <td>male</td>\n",
              "      <td>black</td>\n",
              "      <td>shooting</td>\n",
              "      <td>johns-hopkins-hospital</td>\n",
              "      <td>ED</td>\n",
              "      <td>1200 North Caroline St.</td>\n",
              "      <td>21213</td>\n",
              "      <td>39.304303</td>\n",
              "      <td>-76.598202</td>\n",
              "      <td>2007-01-09</td>\n",
              "      <td>2022-11-01 22:20:00</td>\n",
              "      <td>No Notes</td>\n",
              "    </tr>\n",
              "    <tr>\n",
              "      <th>4283</th>\n",
              "      <td>9</td>\n",
              "      <td>Yule</td>\n",
              "      <td>Henderson</td>\n",
              "      <td>21.0</td>\n",
              "      <td>male</td>\n",
              "      <td>black</td>\n",
              "      <td>shooting</td>\n",
              "      <td>johns-hopkins-hospital</td>\n",
              "      <td>ED</td>\n",
              "      <td>1800 North Montford Ave.</td>\n",
              "      <td>21213</td>\n",
              "      <td>39.311385</td>\n",
              "      <td>-76.584725</td>\n",
              "      <td>2007-01-07</td>\n",
              "      <td>2022-11-01 12:01:00</td>\n",
              "      <td>No Notes</td>\n",
              "    </tr>\n",
              "    <tr>\n",
              "      <th>4288</th>\n",
              "      <td>4</td>\n",
              "      <td>Nelsene</td>\n",
              "      <td>Burnette</td>\n",
              "      <td>44.0</td>\n",
              "      <td>female</td>\n",
              "      <td>black</td>\n",
              "      <td>bluntforce</td>\n",
              "      <td>scene</td>\n",
              "      <td>WD</td>\n",
              "      <td>2000 West North Ave</td>\n",
              "      <td>21217</td>\n",
              "      <td>39.309954</td>\n",
              "      <td>-76.650051</td>\n",
              "      <td>2007-01-02</td>\n",
              "      <td>2022-11-01 18:30:00</td>\n",
              "      <td>No Notes</td>\n",
              "    </tr>\n",
              "    <tr>\n",
              "      <th>4289</th>\n",
              "      <td>3</td>\n",
              "      <td>Eddie</td>\n",
              "      <td>Golf</td>\n",
              "      <td>26.0</td>\n",
              "      <td>male</td>\n",
              "      <td>black</td>\n",
              "      <td>shooting</td>\n",
              "      <td>scene</td>\n",
              "      <td>SW</td>\n",
              "      <td>4900 Challedon Road</td>\n",
              "      <td>21207</td>\n",
              "      <td>39.312646</td>\n",
              "      <td>-76.699146</td>\n",
              "      <td>2007-01-02</td>\n",
              "      <td>2022-11-01 14:48:00</td>\n",
              "      <td>No Notes</td>\n",
              "    </tr>\n",
              "    <tr>\n",
              "      <th>4290</th>\n",
              "      <td>2</td>\n",
              "      <td>Leon</td>\n",
              "      <td>Nelson</td>\n",
              "      <td>17.0</td>\n",
              "      <td>male</td>\n",
              "      <td>black</td>\n",
              "      <td>shooting</td>\n",
              "      <td>shock-trauma</td>\n",
              "      <td>SW</td>\n",
              "      <td>3400 Clifton Ave.</td>\n",
              "      <td>21216</td>\n",
              "      <td>39.311024</td>\n",
              "      <td>-76.674227</td>\n",
              "      <td>2007-01-01</td>\n",
              "      <td>2022-11-01 18:45:00</td>\n",
              "      <td>No Notes</td>\n",
              "    </tr>\n",
              "  </tbody>\n",
              "</table>\n",
              "<p>1879 rows × 16 columns</p>\n",
              "</div>"
            ],
            "text/plain": [
              "        id             first_name  last_name   age  gender     race  \\\n",
              "5     3498  Name not yet released    unknown  24.0    male  unknown   \n",
              "9     3550                unknown    unknown  49.0    male  unknown   \n",
              "13    3694                Richard      Diggs  76.0    male  unknown   \n",
              "16    3732                unknown    unknown  23.0    male  unknown   \n",
              "18    3896                unknown    unknown  19.0    male  unknown   \n",
              "...    ...                    ...        ...   ...     ...      ...   \n",
              "4277    16                William      Davis  26.0    male    black   \n",
              "4283     9                   Yule  Henderson  21.0    male    black   \n",
              "4288     4                Nelsene   Burnette  44.0  female    black   \n",
              "4289     3                  Eddie       Golf  26.0    male    black   \n",
              "4290     2                   Leon     Nelson  17.0    male    black   \n",
              "\n",
              "           cause               death_loc district            street_address  \\\n",
              "5       shooting            shock-trauma       WD            1100 Mosher St   \n",
              "9       shooting                   scene       ED           1500 Barclay St   \n",
              "13      stabbing                   scene       WD         2200 Walbrook Ave   \n",
              "16      shooting                   scene       WD         2300 Evergreen St   \n",
              "18      shooting                   scene       WD          2300 Presbury St   \n",
              "...          ...                     ...      ...                       ...   \n",
              "4277    shooting  johns-hopkins-hospital       ED   1200 North Caroline St.   \n",
              "4283    shooting  johns-hopkins-hospital       ED  1800 North Montford Ave.   \n",
              "4288  bluntforce                   scene       WD       2000 West North Ave   \n",
              "4289    shooting                   scene       SW      4900 Challedon Road    \n",
              "4290    shooting            shock-trauma       SW         3400 Clifton Ave.   \n",
              "\n",
              "      zip_code   latitude  longitude       date                 time  \\\n",
              "5        21217  39.300124 -76.639528 2019-08-07  2022-11-01 21:10:00   \n",
              "9        21202  39.307350 -76.611080 2019-10-04  2022-11-01 22:12:00   \n",
              "13       21216  39.310940 -76.652920 2020-02-25  2022-11-01 17:05:00   \n",
              "16       21216  39.314064 -76.660662 2020-04-19  2022-11-01 00:16:00   \n",
              "18       21216  39.307635 -76.654153 2020-09-25  2022-11-01 10:51:00   \n",
              "...        ...        ...        ...        ...                  ...   \n",
              "4277     21213  39.304303 -76.598202 2007-01-09  2022-11-01 22:20:00   \n",
              "4283     21213  39.311385 -76.584725 2007-01-07  2022-11-01 12:01:00   \n",
              "4288     21217  39.309954 -76.650051 2007-01-02  2022-11-01 18:30:00   \n",
              "4289     21207  39.312646 -76.699146 2007-01-02  2022-11-01 14:48:00   \n",
              "4290     21216  39.311024 -76.674227 2007-01-01  2022-11-01 18:45:00   \n",
              "\n",
              "                    notes  \n",
              "5                No Notes  \n",
              "9                No Notes  \n",
              "13               No Notes  \n",
              "16               No Notes  \n",
              "18    <p>Double fatal</p>  \n",
              "...                   ...  \n",
              "4277             No Notes  \n",
              "4283             No Notes  \n",
              "4288             No Notes  \n",
              "4289             No Notes  \n",
              "4290             No Notes  \n",
              "\n",
              "[1879 rows x 16 columns]"
            ]
          },
          "execution_count": 28,
          "metadata": {},
          "output_type": "execute_result"
        }
      ],
      "source": [
        "com_dis = df2[(df2['district'] == 'WD') | (df2['district'] == 'ED') | (df2['district'] == 'SW')]\n",
        "com_dis"
      ]
    },
    {
      "cell_type": "code",
      "execution_count": 29,
      "metadata": {
        "colab": {
          "base_uri": "https://localhost:8080/"
        },
        "id": "l8xaqxu0y-bh",
        "outputId": "372cd1d8-2dd4-4a01-e02c-7b6455701fb2"
      },
      "outputs": [
        {
          "data": {
            "text/plain": [
              "district  gender \n",
              "ED        female      64\n",
              "          male       576\n",
              "SW        female      56\n",
              "          male       521\n",
              "          unknown      1\n",
              "WD        female      55\n",
              "          male       605\n",
              "          unknown      1\n",
              "Name: date, dtype: int64"
            ]
          },
          "execution_count": 29,
          "metadata": {},
          "output_type": "execute_result"
        }
      ],
      "source": [
        "com_dis.groupby(['district', 'gender'])['date'].count()"
      ]
    },
    {
      "cell_type": "code",
      "execution_count": 30,
      "metadata": {
        "colab": {
          "base_uri": "https://localhost:8080/",
          "height": 297
        },
        "id": "PUFI6jF6y_9S",
        "outputId": "909a5d06-0bde-435b-99b3-35dabd264ddf"
      },
      "outputs": [
        {
          "data": {
            "text/plain": [
              "<matplotlib.legend.Legend at 0x1ece0907f10>"
            ]
          },
          "execution_count": 30,
          "metadata": {},
          "output_type": "execute_result"
        },
        {
          "data": {
            "image/png": "[encoded data removed]",
            "text/plain": [
              "<Figure size 432x288 with 1 Axes>"
            ]
          },
          "metadata": {
            "needs_background": "light"
          },
          "output_type": "display_data"
        }
      ],
      "source": [
        "sns.countplot(data=com_dis, x='district', hue='gender', palette= 'PuBuGn')\n",
        "plt.legend(bbox_to_anchor=(1.02, 1), loc='upper left', borderaxespad=0)"
      ]
    },
    {
      "cell_type": "markdown",
      "metadata": {
        "id": "iU7Ljam2zC4B"
      },
      "source": [
        "Race Comparison Between Top 3 District With Most Homicides"
      ]
    },
    {
      "cell_type": "code",
      "execution_count": 31,
      "metadata": {
        "colab": {
          "base_uri": "https://localhost:8080/"
        },
        "id": "oiOdlgBszEf4",
        "outputId": "31d3b51b-70be-4705-e2f8-210f3e1fb92e"
      },
      "outputs": [
        {
          "data": {
            "text/plain": [
              "district  race    \n",
              "ED        asian         2\n",
              "          black       530\n",
              "          hispanic      1\n",
              "          unknown      95\n",
              "          white        12\n",
              "SW        black       462\n",
              "          hispanic      1\n",
              "          unknown      92\n",
              "          white        23\n",
              "WD        black       537\n",
              "          hispanic      1\n",
              "          unknown     113\n",
              "          white        10\n",
              "Name: date, dtype: int64"
            ]
          },
          "execution_count": 31,
          "metadata": {},
          "output_type": "execute_result"
        }
      ],
      "source": [
        "com_dis.groupby(['district', 'race'])['date'].count()"
      ]
    },
    {
      "cell_type": "code",
      "execution_count": 32,
      "metadata": {
        "colab": {
          "base_uri": "https://localhost:8080/",
          "height": 297
        },
        "id": "erSyYqzczIMR",
        "outputId": "342a35cb-ccb1-4fa3-a995-11500d148301"
      },
      "outputs": [
        {
          "data": {
            "text/plain": [
              "<matplotlib.legend.Legend at 0x1ecdfe57070>"
            ]
          },
          "execution_count": 32,
          "metadata": {},
          "output_type": "execute_result"
        },
        {
          "data": {
            "image/png": "[encoded data removed]",
            "text/plain": [
              "<Figure size 432x288 with 1 Axes>"
            ]
          },
          "metadata": {
            "needs_background": "light"
          },
          "output_type": "display_data"
        }
      ],
      "source": [
        "sns.countplot(data=com_dis, x='district', hue='race', palette= 'PuBuGn')\n",
        "plt.legend(bbox_to_anchor=(1.02, 1), loc='upper left', borderaxespad=0)"
      ]
    },
    {
      "cell_type": "markdown",
      "metadata": {
        "id": "6RKOJmmIzxSh"
      },
      "source": [
        "Age Comparison Between Top 3 District With Most Homicides"
      ]
    },
    {
      "cell_type": "code",
      "execution_count": 33,
      "metadata": {
        "id": "qx5upu932FPx"
      },
      "outputs": [],
      "source": [
        "temp=[]\n",
        "\n",
        "for i in com_dis['age']:\n",
        "  if i >=0 and i <=3:\n",
        "    grp = 'Toddlers'\n",
        "  elif i >=4 and i <=12:\n",
        "    grp = 'Kids'\n",
        "  elif i >=13 and i <=18:\n",
        "    grp = 'Teens'\n",
        "  elif i >=19 and i <=29:\n",
        "    grp = 'Young Aduls'\n",
        "  elif i >=30 and i <=59:\n",
        "    grp = 'Middle Aged'\n",
        "  elif i >=60:\n",
        "    grp = 'Elderly'\n",
        "  else:\n",
        "    grp = 'Invalid'\n",
        "  temp.append(grp)"
      ]
    },
    {
      "cell_type": "code",
      "execution_count": 34,
      "metadata": {
        "colab": {
          "base_uri": "https://localhost:8080/"
        },
        "id": "xs_wbZ495Fo7",
        "outputId": "1fd9ccdb-b425-422e-c0af-9472ba2ddb68"
      },
      "outputs": [
        {
          "name": "stderr",
          "output_type": "stream",
          "text": [
            "C:\\Users\\praba\\AppData\\Local\\Temp\\ipykernel_13228\\2414243849.py:1: SettingWithCopyWarning: \n",
            "A value is trying to be set on a copy of a slice from a DataFrame.\n",
            "Try using .loc[row_indexer,col_indexer] = value instead\n",
            "\n",
            "See the caveats in the documentation: https://pandas.pydata.org/pandas-docs/stable/user_guide/indexing.html#returning-a-view-versus-a-copy\n",
            "  com_dis['age_group'] = temp\n"
          ]
        }
      ],
      "source": [
        "com_dis['age_group'] = temp"
      ]
    },
    {
      "cell_type": "code",
      "execution_count": 35,
      "metadata": {
        "colab": {
          "base_uri": "https://localhost:8080/"
        },
        "id": "c7mzuo3lzxch",
        "outputId": "19a034bf-fa1d-4e22-d14b-17934859aafa"
      },
      "outputs": [
        {
          "data": {
            "text/plain": [
              "district  age_group  \n",
              "ED        Elderly         18\n",
              "          Kids             4\n",
              "          Middle Aged    280\n",
              "          Teens           34\n",
              "          Toddlers         8\n",
              "          Young Aduls    296\n",
              "SW        Elderly         13\n",
              "          Kids             4\n",
              "          Middle Aged    224\n",
              "          Teens           50\n",
              "          Toddlers         8\n",
              "          Young Aduls    279\n",
              "WD        Elderly         16\n",
              "          Middle Aged    300\n",
              "          Teens           41\n",
              "          Toddlers        11\n",
              "          Young Aduls    293\n",
              "Name: date, dtype: int64"
            ]
          },
          "execution_count": 35,
          "metadata": {},
          "output_type": "execute_result"
        }
      ],
      "source": [
        "com_dis.groupby(['district', 'age_group'])['date'].count()"
      ]
    },
    {
      "cell_type": "code",
      "execution_count": 36,
      "metadata": {
        "colab": {
          "base_uri": "https://localhost:8080/",
          "height": 297
        },
        "id": "ydtSEKUyz1Qw",
        "outputId": "2656f481-1293-4ace-a713-7c4b3280c989"
      },
      "outputs": [
        {
          "data": {
            "text/plain": [
              "<matplotlib.legend.Legend at 0x1ece09ee5b0>"
            ]
          },
          "execution_count": 36,
          "metadata": {},
          "output_type": "execute_result"
        },
        {
          "data": {
            "image/png": "[encoded data removed]",
            "text/plain": [
              "<Figure size 432x288 with 1 Axes>"
            ]
          },
          "metadata": {
            "needs_background": "light"
          },
          "output_type": "display_data"
        }
      ],
      "source": [
        "sns.countplot(data=com_dis, x='district', hue='age_group', palette= 'PuBuGn')\n",
        "\n",
        "plt.legend(bbox_to_anchor=(1.02, 1), loc='upper left', borderaxespad=0)"
      ]
    },
    {
      "cell_type": "markdown",
      "metadata": {
        "id": "t72fE1ew6BRy"
      },
      "source": [
        "From the comparisons above, it can be known that most of the victims have similar attributes in each district in terms of race and gender. Although interestingly enough, there are more middle aged homicide victims in the Western District of Baltimore rather than the general attribute of young adult victims when compared to the East and Southwest District, or even to the overall victim data of Baltimore."
      ]
    },
    {
      "cell_type": "markdown",
      "metadata": {
        "id": "P8j_sJ1Q8KCu"
      },
      "source": [
        "**On what timeframe does the homicide numbers increase significantly?**"
      ]
    },
    {
      "cell_type": "code",
      "execution_count": 37,
      "metadata": {
        "colab": {
          "base_uri": "https://localhost:8080/"
        },
        "id": "5VLT64lX8WZ-",
        "outputId": "e3df05ca-3ba3-46b9-ac38-2b86f9c7f087"
      },
      "outputs": [
        {
          "name": "stdout",
          "output_type": "stream",
          "text": [
            "date\n",
            "2007-01-01    1\n",
            "2007-01-02    2\n",
            "2007-01-03    1\n",
            "2007-01-05    3\n",
            "2007-01-07    1\n",
            "             ..\n",
            "2022-03-25    2\n",
            "2022-03-26    1\n",
            "2022-04-03    3\n",
            "2022-04-05    1\n",
            "2022-04-06    2\n",
            "Name: date, Length: 2875, dtype: int64\n"
          ]
        }
      ],
      "source": [
        "print(df2.groupby('date', sort = True)['date'].count())"
      ]
    },
    {
      "cell_type": "code",
      "execution_count": 38,
      "metadata": {
        "colab": {
          "base_uri": "https://localhost:8080/"
        },
        "id": "xdChc26a8c_L",
        "outputId": "c394a0dd-762b-477d-ec1d-e3d9de79c108"
      },
      "outputs": [
        {
          "data": {
            "text/plain": [
              "date\n",
              "2007-12-31    282\n",
              "2008-12-31    234\n",
              "2009-12-31    240\n",
              "2010-12-31    224\n",
              "2011-12-31    197\n",
              "2012-12-31    217\n",
              "2013-12-31    235\n",
              "2014-12-31    211\n",
              "2015-12-31    342\n",
              "2016-12-31    318\n",
              "2017-12-31    342\n",
              "2018-12-31    309\n",
              "2019-12-31    360\n",
              "2020-12-31    347\n",
              "2021-12-31    347\n",
              "2022-12-31     86\n",
              "Freq: A-DEC, Name: date, dtype: int64"
            ]
          },
          "execution_count": 38,
          "metadata": {},
          "output_type": "execute_result"
        }
      ],
      "source": [
        "df2.groupby(pd.Grouper(key='date',freq=\"Y\"))['date'].count()"
      ]
    },
    {
      "cell_type": "markdown",
      "metadata": {
        "id": "QA6j4Ul98dp9"
      },
      "source": [
        "in this case, we are going to ignore the data of 2022 because the year hasn't ended yet. Thus, the numbers of homicide is definitely going to be lower."
      ]
    },
    {
      "cell_type": "code",
      "execution_count": 39,
      "metadata": {
        "colab": {
          "base_uri": "https://localhost:8080/",
          "height": 392
        },
        "id": "D4mfqbh-8uZb",
        "outputId": "40ea6c1a-013e-43ed-a2b0-30dde40cb9e5"
      },
      "outputs": [
        {
          "data": {
            "text/plain": [
              "<AxesSubplot:xlabel='date'>"
            ]
          },
          "execution_count": 39,
          "metadata": {},
          "output_type": "execute_result"
        },
        {
          "data": {
            "image/png": "[encoded data removed]",
            "text/plain": [
              "<Figure size 432x288 with 1 Axes>"
            ]
          },
          "metadata": {
            "needs_background": "light"
          },
          "output_type": "display_data"
        }
      ],
      "source": [
        "df2.groupby(pd.Grouper(key='date',freq=\"Y\"))['date'].count().plot(kind='bar')"
      ]
    },
    {
      "cell_type": "markdown",
      "metadata": {
        "id": "kaQ4xpYG_J1E"
      },
      "source": [
        "Based on the analysis, it's known that the highest numbers of cases occur in 2019. However it can be inferred from the plot that there is a sharp increase in 2015 and the data shows a dip in 2011."
      ]
    },
    {
      "cell_type": "markdown",
      "metadata": {
        "id": "TAO1x1Da_jzJ"
      },
      "source": [
        "**Does race have a significant correlation with the homicide method?**"
      ]
    },
    {
      "cell_type": "code",
      "execution_count": 40,
      "metadata": {
        "colab": {
          "base_uri": "https://localhost:8080/",
          "height": 641
        },
        "id": "dynlyefh_kXw",
        "outputId": "c6a972a6-4a36-45ef-967b-10f05bf15691"
      },
      "outputs": [
        {
          "data": {
            "text/html": [
              "<div>\n",
              "<style scoped>\n",
              "    .dataframe tbody tr th:only-of-type {\n",
              "        vertical-align: middle;\n",
              "    }\n",
              "\n",
              "    .dataframe tbody tr th {\n",
              "        vertical-align: top;\n",
              "    }\n",
              "\n",
              "    .dataframe thead th {\n",
              "        text-align: right;\n",
              "    }\n",
              "</style>\n",
              "<table border=\"1\" class=\"dataframe\">\n",
              "  <thead>\n",
              "    <tr style=\"text-align: right;\">\n",
              "      <th></th>\n",
              "      <th>id</th>\n",
              "      <th>first_name</th>\n",
              "      <th>last_name</th>\n",
              "      <th>age</th>\n",
              "      <th>gender</th>\n",
              "      <th>race</th>\n",
              "      <th>cause</th>\n",
              "      <th>death_loc</th>\n",
              "      <th>district</th>\n",
              "      <th>street_address</th>\n",
              "      <th>zip_code</th>\n",
              "      <th>latitude</th>\n",
              "      <th>longitude</th>\n",
              "      <th>date</th>\n",
              "      <th>time</th>\n",
              "      <th>notes</th>\n",
              "    </tr>\n",
              "  </thead>\n",
              "  <tbody>\n",
              "    <tr>\n",
              "      <th>328</th>\n",
              "      <td>4125</td>\n",
              "      <td>Harry</td>\n",
              "      <td>Prather</td>\n",
              "      <td>61.0</td>\n",
              "      <td>male</td>\n",
              "      <td>black</td>\n",
              "      <td>shooting</td>\n",
              "      <td>unknown</td>\n",
              "      <td>SD</td>\n",
              "      <td>1200 Hollins St</td>\n",
              "      <td>21223</td>\n",
              "      <td>39.287624</td>\n",
              "      <td>-76.636857</td>\n",
              "      <td>2021-05-28</td>\n",
              "      <td>2022-11-01 22:45:00</td>\n",
              "      <td>No Notes</td>\n",
              "    </tr>\n",
              "    <tr>\n",
              "      <th>1215</th>\n",
              "      <td>3207</td>\n",
              "      <td>Lawrence</td>\n",
              "      <td>Price</td>\n",
              "      <td>73.0</td>\n",
              "      <td>male</td>\n",
              "      <td>black</td>\n",
              "      <td>shooting</td>\n",
              "      <td>unknown</td>\n",
              "      <td>NW</td>\n",
              "      <td>4600 Liberty Heights Ave</td>\n",
              "      <td>21207</td>\n",
              "      <td>39.331290</td>\n",
              "      <td>-76.694340</td>\n",
              "      <td>2018-10-04</td>\n",
              "      <td>2022-11-01 00:24:00</td>\n",
              "      <td>No Notes</td>\n",
              "    </tr>\n",
              "    <tr>\n",
              "      <th>4207</th>\n",
              "      <td>85</td>\n",
              "      <td>Dewitt</td>\n",
              "      <td>Smith</td>\n",
              "      <td>25.0</td>\n",
              "      <td>male</td>\n",
              "      <td>black</td>\n",
              "      <td>shooting</td>\n",
              "      <td>shock-trauma</td>\n",
              "      <td>SW</td>\n",
              "      <td>1600 North Rosedale St.</td>\n",
              "      <td>21216</td>\n",
              "      <td>39.306180</td>\n",
              "      <td>-76.669358</td>\n",
              "      <td>2007-04-27</td>\n",
              "      <td>2022-11-01 18:30:00</td>\n",
              "      <td>No Notes</td>\n",
              "    </tr>\n",
              "    <tr>\n",
              "      <th>2968</th>\n",
              "      <td>1374</td>\n",
              "      <td>Jose</td>\n",
              "      <td>Carranza</td>\n",
              "      <td>32.0</td>\n",
              "      <td>male</td>\n",
              "      <td>hispanic</td>\n",
              "      <td>shooting</td>\n",
              "      <td>scene</td>\n",
              "      <td>SE</td>\n",
              "      <td>200 S Eaton Ave</td>\n",
              "      <td>21224</td>\n",
              "      <td>39.290185</td>\n",
              "      <td>-76.565747</td>\n",
              "      <td>2012-09-03</td>\n",
              "      <td>2022-11-01 22:22:00</td>\n",
              "      <td>&lt;p&gt;Double shooting&lt;/p&gt;</td>\n",
              "    </tr>\n",
              "    <tr>\n",
              "      <th>3712</th>\n",
              "      <td>602</td>\n",
              "      <td>Russell</td>\n",
              "      <td>Day</td>\n",
              "      <td>31.0</td>\n",
              "      <td>male</td>\n",
              "      <td>white</td>\n",
              "      <td>shooting</td>\n",
              "      <td>unknown</td>\n",
              "      <td>SW</td>\n",
              "      <td>2100 Christian St</td>\n",
              "      <td>21223</td>\n",
              "      <td>39.281842</td>\n",
              "      <td>-76.649457</td>\n",
              "      <td>2009-04-13</td>\n",
              "      <td>2022-11-01 09:30:00</td>\n",
              "      <td>No Notes</td>\n",
              "    </tr>\n",
              "    <tr>\n",
              "      <th>...</th>\n",
              "      <td>...</td>\n",
              "      <td>...</td>\n",
              "      <td>...</td>\n",
              "      <td>...</td>\n",
              "      <td>...</td>\n",
              "      <td>...</td>\n",
              "      <td>...</td>\n",
              "      <td>...</td>\n",
              "      <td>...</td>\n",
              "      <td>...</td>\n",
              "      <td>...</td>\n",
              "      <td>...</td>\n",
              "      <td>...</td>\n",
              "      <td>...</td>\n",
              "      <td>...</td>\n",
              "      <td>...</td>\n",
              "    </tr>\n",
              "    <tr>\n",
              "      <th>4267</th>\n",
              "      <td>25</td>\n",
              "      <td>Jermall</td>\n",
              "      <td>Ford</td>\n",
              "      <td>31.0</td>\n",
              "      <td>male</td>\n",
              "      <td>black</td>\n",
              "      <td>shooting</td>\n",
              "      <td>shock-trauma</td>\n",
              "      <td>CD</td>\n",
              "      <td>2100 Madison Ave.</td>\n",
              "      <td>21217</td>\n",
              "      <td>39.309476</td>\n",
              "      <td>-76.635122</td>\n",
              "      <td>2007-01-24</td>\n",
              "      <td>2022-11-01 08:34:00</td>\n",
              "      <td>No Notes</td>\n",
              "    </tr>\n",
              "    <tr>\n",
              "      <th>2125</th>\n",
              "      <td>2274</td>\n",
              "      <td>William</td>\n",
              "      <td>Epps</td>\n",
              "      <td>30.0</td>\n",
              "      <td>male</td>\n",
              "      <td>black</td>\n",
              "      <td>shooting</td>\n",
              "      <td>unknown</td>\n",
              "      <td>ED</td>\n",
              "      <td>2100 Barclay St</td>\n",
              "      <td>21218</td>\n",
              "      <td>39.313557</td>\n",
              "      <td>-76.611320</td>\n",
              "      <td>2015-12-16</td>\n",
              "      <td>2022-11-01 09:52:00</td>\n",
              "      <td>No Notes</td>\n",
              "    </tr>\n",
              "    <tr>\n",
              "      <th>4241</th>\n",
              "      <td>51</td>\n",
              "      <td>Anthony</td>\n",
              "      <td>Bryan</td>\n",
              "      <td>37.0</td>\n",
              "      <td>male</td>\n",
              "      <td>black</td>\n",
              "      <td>shooting</td>\n",
              "      <td>shock-trauma</td>\n",
              "      <td>SW</td>\n",
              "      <td>3000 Rosedale Court</td>\n",
              "      <td>21216</td>\n",
              "      <td>39.302450</td>\n",
              "      <td>-76.668326</td>\n",
              "      <td>2007-03-09</td>\n",
              "      <td>2022-11-01 08:40:00</td>\n",
              "      <td>No Notes</td>\n",
              "    </tr>\n",
              "    <tr>\n",
              "      <th>1871</th>\n",
              "      <td>2538</td>\n",
              "      <td>Sharon</td>\n",
              "      <td>Dorsey</td>\n",
              "      <td>60.0</td>\n",
              "      <td>female</td>\n",
              "      <td>black</td>\n",
              "      <td>stabbing</td>\n",
              "      <td>shock-trauma</td>\n",
              "      <td>WD</td>\n",
              "      <td>2500 W Lafayette Ave</td>\n",
              "      <td>21216</td>\n",
              "      <td>39.298679</td>\n",
              "      <td>-76.656662</td>\n",
              "      <td>2016-10-09</td>\n",
              "      <td>2022-11-01 23:35:00</td>\n",
              "      <td>No Notes</td>\n",
              "    </tr>\n",
              "    <tr>\n",
              "      <th>2982</th>\n",
              "      <td>1361</td>\n",
              "      <td>Diane</td>\n",
              "      <td>Edwards</td>\n",
              "      <td>54.0</td>\n",
              "      <td>female</td>\n",
              "      <td>black</td>\n",
              "      <td>shooting</td>\n",
              "      <td>unknown</td>\n",
              "      <td>NE</td>\n",
              "      <td>4200 Hamilton Ave</td>\n",
              "      <td>21229</td>\n",
              "      <td>39.342358</td>\n",
              "      <td>-76.545557</td>\n",
              "      <td>2012-08-17</td>\n",
              "      <td>unknown</td>\n",
              "      <td>No Notes</td>\n",
              "    </tr>\n",
              "  </tbody>\n",
              "</table>\n",
              "<p>1000 rows × 16 columns</p>\n",
              "</div>"
            ],
            "text/plain": [
              "        id first_name last_name   age  gender      race     cause  \\\n",
              "328   4125      Harry   Prather  61.0    male     black  shooting   \n",
              "1215  3207   Lawrence     Price  73.0    male     black  shooting   \n",
              "4207    85     Dewitt     Smith  25.0    male     black  shooting   \n",
              "2968  1374       Jose  Carranza  32.0    male  hispanic  shooting   \n",
              "3712   602    Russell       Day  31.0    male     white  shooting   \n",
              "...    ...        ...       ...   ...     ...       ...       ...   \n",
              "4267    25    Jermall      Ford  31.0    male     black  shooting   \n",
              "2125  2274    William      Epps  30.0    male     black  shooting   \n",
              "4241    51    Anthony     Bryan  37.0    male     black  shooting   \n",
              "1871  2538     Sharon    Dorsey  60.0  female     black  stabbing   \n",
              "2982  1361      Diane   Edwards  54.0  female     black  shooting   \n",
              "\n",
              "         death_loc district            street_address  zip_code   latitude  \\\n",
              "328        unknown       SD           1200 Hollins St     21223  39.287624   \n",
              "1215       unknown       NW  4600 Liberty Heights Ave     21207  39.331290   \n",
              "4207  shock-trauma       SW   1600 North Rosedale St.     21216  39.306180   \n",
              "2968         scene       SE           200 S Eaton Ave     21224  39.290185   \n",
              "3712       unknown       SW         2100 Christian St     21223  39.281842   \n",
              "...            ...      ...                       ...       ...        ...   \n",
              "4267  shock-trauma       CD         2100 Madison Ave.     21217  39.309476   \n",
              "2125       unknown       ED           2100 Barclay St     21218  39.313557   \n",
              "4241  shock-trauma       SW       3000 Rosedale Court     21216  39.302450   \n",
              "1871  shock-trauma       WD      2500 W Lafayette Ave     21216  39.298679   \n",
              "2982       unknown       NE         4200 Hamilton Ave     21229  39.342358   \n",
              "\n",
              "      longitude       date                 time                   notes  \n",
              "328  -76.636857 2021-05-28  2022-11-01 22:45:00                No Notes  \n",
              "1215 -76.694340 2018-10-04  2022-11-01 00:24:00                No Notes  \n",
              "4207 -76.669358 2007-04-27  2022-11-01 18:30:00                No Notes  \n",
              "2968 -76.565747 2012-09-03  2022-11-01 22:22:00  <p>Double shooting</p>  \n",
              "3712 -76.649457 2009-04-13  2022-11-01 09:30:00                No Notes  \n",
              "...         ...        ...                  ...                     ...  \n",
              "4267 -76.635122 2007-01-24  2022-11-01 08:34:00                No Notes  \n",
              "2125 -76.611320 2015-12-16  2022-11-01 09:52:00                No Notes  \n",
              "4241 -76.668326 2007-03-09  2022-11-01 08:40:00                No Notes  \n",
              "1871 -76.656662 2016-10-09  2022-11-01 23:35:00                No Notes  \n",
              "2982 -76.545557 2012-08-17              unknown                No Notes  \n",
              "\n",
              "[1000 rows x 16 columns]"
            ]
          },
          "execution_count": 40,
          "metadata": {},
          "output_type": "execute_result"
        }
      ],
      "source": [
        "#Resampling to have a more accurate result\n",
        "resampled_data = df3.sample(1000)\n",
        "resampled_data"
      ]
    },
    {
      "cell_type": "code",
      "execution_count": 41,
      "metadata": {
        "colab": {
          "base_uri": "https://localhost:8080/",
          "height": 206
        },
        "id": "qLR9ih6o_ra7",
        "outputId": "ed745131-a950-4752-af37-3ee773012481"
      },
      "outputs": [
        {
          "data": {
            "text/html": [
              "<div>\n",
              "<style scoped>\n",
              "    .dataframe tbody tr th:only-of-type {\n",
              "        vertical-align: middle;\n",
              "    }\n",
              "\n",
              "    .dataframe tbody tr th {\n",
              "        vertical-align: top;\n",
              "    }\n",
              "\n",
              "    .dataframe thead th {\n",
              "        text-align: right;\n",
              "    }\n",
              "</style>\n",
              "<table border=\"1\" class=\"dataframe\">\n",
              "  <thead>\n",
              "    <tr style=\"text-align: right;\">\n",
              "      <th>cause</th>\n",
              "      <th>asphyxiation</th>\n",
              "      <th>bluntforce</th>\n",
              "      <th>other</th>\n",
              "      <th>shooting</th>\n",
              "      <th>stabbing</th>\n",
              "    </tr>\n",
              "    <tr>\n",
              "      <th>race</th>\n",
              "      <th></th>\n",
              "      <th></th>\n",
              "      <th></th>\n",
              "      <th></th>\n",
              "      <th></th>\n",
              "    </tr>\n",
              "  </thead>\n",
              "  <tbody>\n",
              "    <tr>\n",
              "      <th>asian</th>\n",
              "      <td>0</td>\n",
              "      <td>0</td>\n",
              "      <td>0</td>\n",
              "      <td>3</td>\n",
              "      <td>1</td>\n",
              "    </tr>\n",
              "    <tr>\n",
              "      <th>black</th>\n",
              "      <td>5</td>\n",
              "      <td>22</td>\n",
              "      <td>7</td>\n",
              "      <td>830</td>\n",
              "      <td>66</td>\n",
              "    </tr>\n",
              "    <tr>\n",
              "      <th>hispanic</th>\n",
              "      <td>1</td>\n",
              "      <td>3</td>\n",
              "      <td>1</td>\n",
              "      <td>8</td>\n",
              "      <td>4</td>\n",
              "    </tr>\n",
              "    <tr>\n",
              "      <th>white</th>\n",
              "      <td>2</td>\n",
              "      <td>6</td>\n",
              "      <td>0</td>\n",
              "      <td>30</td>\n",
              "      <td>11</td>\n",
              "    </tr>\n",
              "  </tbody>\n",
              "</table>\n",
              "</div>"
            ],
            "text/plain": [
              "cause     asphyxiation  bluntforce  other  shooting  stabbing\n",
              "race                                                         \n",
              "asian                0           0      0         3         1\n",
              "black                5          22      7       830        66\n",
              "hispanic             1           3      1         8         4\n",
              "white                2           6      0        30        11"
            ]
          },
          "execution_count": 41,
          "metadata": {},
          "output_type": "execute_result"
        }
      ],
      "source": [
        "contingency=pd.crosstab(resampled_data[\"race\"],resampled_data['cause'])\n",
        "contingency"
      ]
    },
    {
      "cell_type": "markdown",
      "metadata": {
        "id": "625U4a2uNse3"
      },
      "source": [
        "H0= race has no significant relation to method of homicide\n",
        "\n",
        "H1= race has a significant relation to method of homicide"
      ]
    },
    {
      "cell_type": "code",
      "execution_count": 42,
      "metadata": {
        "colab": {
          "base_uri": "https://localhost:8080/"
        },
        "id": "7skeEZLU_s8L",
        "outputId": "0b6702cc-f220-4b4e-eafa-eb901eb43543"
      },
      "outputs": [
        {
          "name": "stdout",
          "output_type": "stream",
          "text": [
            "p value is 1.0243891183590466e-10\n",
            "Dependent\n"
          ]
        }
      ],
      "source": [
        "stat, p, dof, expected = stats.chi2_contingency(contingency)\n",
        "alpha = 0.05\n",
        "print(\"p value is \" + str(p))\n",
        "if p <= alpha:\n",
        "    print('Dependent')\n",
        "else:\n",
        "    print('Independent')"
      ]
    },
    {
      "cell_type": "markdown",
      "metadata": {
        "id": "uTVFALfYOQwO"
      },
      "source": [
        "From the chi square testing, it's shown that the p value is below 0.05 which means that we are rejecting h0 and that race probably has a significant correlation to the method of homicide in Baltimore."
      ]
    },
    {
      "cell_type": "markdown",
      "metadata": {
        "id": "GZB7smqsPnGl"
      },
      "source": [
        "## Conclusion"
      ]
    },
    {
      "cell_type": "markdown",
      "metadata": {
        "id": "04ZFr13FUkJh"
      },
      "source": [
        "In the US, Baltimore has the highet homicide per capita in the country, and based on the data it is found that the top 3 districts with the highest homicide cases are Western (WD), Eastern (ED), and Southwestern (SW). Though the cause of this is not exactly known by the author since it could also be that the population density is also higher on those three districts compared to the others.\n",
        "\n",
        "In general, most of the victims are black male in their 20s and most of the cause of death is due to shooting. Generally, the victim's characteristics on the top 3 districts are pretty similar except for the Western District when it's according to age since most of the victims are in their 30s. This makes sense since the population of Baltimore is made up of more than 50% black people.\n",
        "\n",
        "According to the data based on date, the year 2019 has the highest case occured. Though the numbers started to have a steep incline since 2015. The reason behind this is also unknown by the author but it also has to be highlighted that Baltimore has a long history handling gang crimes that involves shooting and murders.\n",
        "\n",
        "It's also concluded that it's probable that race has a significant relation to the cause of death or method of homicide. A possible reason of why it shows that result might be because of how it's previously mentioned that most of the population of Baltimore is made up of one specific race and how gun violence is very common in the US and specifically Baltimore.\n",
        "\n",
        "Based on this, the officials of Baltimore could come up with new strategies on handling the gang crimes there and perhaps revise the regulations surrounding gun ownership and gun use.\n"
      ]
    },
    {
      "cell_type": "markdown",
      "metadata": {
        "id": "zpbChaYQUcKD"
      },
      "source": [
        "**Dataframe to excel**"
      ]
    },
    {
      "cell_type": "markdown",
      "metadata": {},
      "source": [
        "In this analysis, we are separating the original dataframe into two. One is merely for describing the data while handling the missing values as little as possible, and the other has had some missing values handling done in order to describe the numerical data (age) better. We are saving those two datasets as .xlsx since we are going to visualize it in tableau. "
      ]
    },
    {
      "cell_type": "code",
      "execution_count": 43,
      "metadata": {
        "id": "8th89qj8RiB5"
      },
      "outputs": [],
      "source": [
        "df2.to_excel('df2.xlsx')"
      ]
    },
    {
      "cell_type": "code",
      "execution_count": 44,
      "metadata": {
        "id": "UVbTvAl2R0C3"
      },
      "outputs": [],
      "source": [
        "df3.to_excel('df3.xlsx')"
      ]
    }
  ],
  "metadata": {
    "colab": {
      "collapsed_sections": [],
      "provenance": []
    },
    "kernelspec": {
      "display_name": "Python 3.9.12 ('base')",
      "language": "python",
      "name": "python3"
    },
    "language_info": {
      "codemirror_mode": {
        "name": "ipython",
        "version": 3
      },
      "file_extension": ".py",
      "mimetype": "text/x-python",
      "name": "python",
      "nbconvert_exporter": "python",
      "pygments_lexer": "ipython3",
      "version": "3.9.12"
    },
    "vscode": {
      "interpreter": {
        "hash": "2b4d7b9a044dfafd283ac5e998378fc233f274b1ac169120ad58a77e18bcfdd3"
      }
    }
  },
  "nbformat": 4,
  "nbformat_minor": 0
}
